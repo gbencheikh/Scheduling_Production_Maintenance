{
 "cells": [
  {
   "cell_type": "markdown",
   "id": "cfd819ab-22f0-46ba-90ad-7527f73dc92f",
   "metadata": {},
   "source": [
    "# Model\n",
    "Ce programme résout le FJSSP sans prendre en compte la maintenance ni la qualité"
   ]
  },
  {
   "cell_type": "code",
   "execution_count": 14,
   "id": "37578b3a-9e2c-4266-8904-18b2502a052e",
   "metadata": {},
   "outputs": [],
   "source": [
    "from my_gantt_chart import create_gantt_chart\n",
    "from mip import Model, xsum, minimize, BINARY\n",
    "import numpy as np"
   ]
  },
  {
   "cell_type": "code",
   "execution_count": 15,
   "id": "956d6da9-cbdd-4901-89de-59332674f350",
   "metadata": {},
   "outputs": [],
   "source": [
    "model = Model()"
   ]
  },
  {
   "cell_type": "markdown",
   "id": "5844263e-b680-42a0-9c32-aca003ee11e7",
   "metadata": {},
   "source": [
    "# Définition des constant"
   ]
  },
  {
   "cell_type": "code",
   "execution_count": 16,
   "id": "655eff1c-053e-40ed-8f1b-c0b429b2d9e3",
   "metadata": {},
   "outputs": [],
   "source": [
    "n_max = 4\n",
    "nbMachines = 4\n",
    "nbJobs = 3\n",
    "nbOperationsParJob = [4, 2, 3]\n",
    "nbComposants = [3, 3, 2, 2]\n",
    "# nbComposants = [1, 1, 1, 1]\n",
    "\n",
    "degradations = [\n",
    " [[[2, 3, 2, 4], [3, 2], [3, 3, 4]],\n",
    "  [[3, 4, 3, 5], [4, 3], [4, 3, 5]],\n",
    "  [[2, 3, 2, 4], [3, 2], [3, 2, 4]]\n",
    " ],\n",
    " [[[3, 4, 3, 5], [4, 3], [4, 3, 5]],\n",
    "  [[4, 5, 4, 6], [5, 4], [5, 4, 6]],\n",
    "  [[3, 4, 3, 5], [4, 3], [4, 3, 5]]\n",
    " ],\n",
    " [[[1, 2, 1, 3], [2, 1], [2, 1, 3]],\n",
    "  [[2, 3, 2, 4], [3, 2], [3, 2, 4]]\n",
    " ],\n",
    " [[[2, 3, 2, 2], [3, 4], [3, 1, 1]],\n",
    "  [[3, 4, 3, 3], [2, 4], [2, 3, 1]]\n",
    " ]\n",
    "]\n",
    "\n",
    "seuils_degradation = [\n",
    "    [6, 5, 8],\n",
    "    [5, 9, 4],\n",
    "    [10, 7],\n",
    "    [5, 7]\n",
    "]\n",
    "\n",
    "dureeOperations = [\n",
    "    [[5, 4, 6, 3], [7, 6], [8, 5, 7]],\n",
    "    [[7, 6, 8, 5], [6, 8], [10, 7, 9]],\n",
    "    [[6, 5, 7, 4], [8, 7], [9, 6, 8]],\n",
    "    [[8, 7, 9, 6], [10, 19], [11, 8, 10]]]\n",
    "   \n",
    "dureeMaintenances = [\n",
    "    [4, 4, 6],\n",
    "    [3, 5, 4],\n",
    "    [3, 2, 0],\n",
    "    [3, 3, 0]\n",
    "]\n",
    "couleurMachines = {\n",
    "    'J1': '#ff9999',   # Light Red\n",
    "    'J2': '#99ff99',   # Light Green\n",
    "    'J3': '#9999ff',   # Light Blue\n",
    "    'J4': '#61620abf', # Dark Blue\n",
    "    'J5': '#ffcc99',   # Light Orange\n",
    "    'J6': '#66c2a5',   # Teal\n",
    "    'J7': '#fc8d62',   # Salmon\n",
    "    'J8': '#8da0cb',   # Lavender\n",
    "    'J9': '#e78ac3',   # Pink\n",
    "    'J10': '#a6d854',  # Lime Green\n",
    "    'J11': '#ffd92f',  # Yellow\n",
    "    'J12': '#e5c494',  # Beige\n",
    "    'J13': '#b3b3b3',  # Grey\n",
    "    'J14': '#1f78b4',  # Bright Blue\n",
    "    'J15': '#33a02c',  # Bright Green\n",
    "    'Maintenances': '#2F4F4F'  # Dark Slate Grey\n",
    "}\n"
   ]
  },
  {
   "cell_type": "markdown",
   "id": "0312d62b-866b-4254-b34e-dc2df009977e",
   "metadata": {},
   "source": [
    "# Définfition des Variables"
   ]
  },
  {
   "cell_type": "code",
   "execution_count": 17,
   "id": "e467c77d-8786-45cd-8a68-830aee3d8659",
   "metadata": {},
   "outputs": [],
   "source": [
    "Cmax = model.add_var()\n",
    "t_max = 9999\n",
    "x_ijkn = [[[[model.add_var(var_type=BINARY) for i in range(nbOperationsParJob[j])] for j in range(nbJobs)] for k in range(nbMachines)] for n in range(n_max)]\n",
    "v_kn= [[model.add_var() for k in range(nbMachines)] for n in range(n_max)]\n",
    "w = [[[[[[model.add_var(var_type=BINARY) for i in range(nbOperationsParJob[j])] for j in range(nbJobs)] for i_ in range(nbOperationsParJob[j_])] for j_ in range(nbJobs)] for m in range(nbMachines)] for n in range(n_max)]\n",
    "prod_w_t = [[[[[[model.add_var() for i in range(nbOperationsParJob[j])] for j in range(nbJobs)] for i_ in range(nbOperationsParJob[j_])] for j_ in range(nbJobs)] for m in range(nbMachines)] for n in range(n_max)]\n",
    "t_ij = [[model.add_var() for i in range(nbOperationsParJob[j])] for j in range(nbJobs)]"
   ]
  },
  {
   "cell_type": "markdown",
   "id": "9f161ddf-58a6-4c71-9e5a-6f043e9e19c2",
   "metadata": {},
   "source": [
    "# Calcul des variables"
   ]
  },
  {
   "cell_type": "code",
   "execution_count": 18,
   "id": "9c0e463f-552e-45e2-81b7-6f92288df5f2",
   "metadata": {},
   "outputs": [],
   "source": [
    "## CALCUL DE LA VARIABLE v\n",
    "for n in range(n_max):\n",
    "    for k in range(nbMachines):\n",
    "        model += v_kn[n][k] == xsum(x_ijkn[n][k][j][i] \n",
    "                                    for j in range(nbJobs)\n",
    "                                    for i in range(nbOperationsParJob[j]))\n",
    "\n",
    "## CALCUL DE LA VARIABLE w\n",
    "for n in range(n_max-1):\n",
    "    for k in range(nbMachines):\n",
    "        for j_ in range(nbJobs):\n",
    "            for i_ in range(nbOperationsParJob[j_]):\n",
    "                for j in range(nbJobs):\n",
    "                    for i in range(nbOperationsParJob[j]):\n",
    "                        model += w[n][k][j_][i_][j][i] - x_ijkn[n][k][j][i] - x_ijkn[n+1][k][j_][i_] >= -1\n",
    "                        model += w[n][k][j_][i_][j][i] - 0.5*x_ijkn[n][k][j][i] - 0.5*x_ijkn[n+1][k][j_][i_] <= 0\n",
    "\n",
    "## LINEARISATION DE w ET DE tij\n",
    "for n in range(n_max):\n",
    "    for k in range(nbMachines):\n",
    "        for j_ in range(nbJobs):\n",
    "            for i_ in range(nbOperationsParJob[j_]):\n",
    "                for j in range(nbJobs):\n",
    "                    for i in range(nbOperationsParJob[j]):\n",
    "                        model += prod_w_t[n][k][j_][i_][j][i] >= 0\n",
    "                        model += prod_w_t[n][k][j_][i_][j][i] - w[n][k][j_][i_][j][i] * t_max <= 0\n",
    "                        model += prod_w_t[n][k][j_][i_][j][i] - t_ij[j][i] <= 0\n",
    "                        model += prod_w_t[n][k][j_][i_][j][i] - t_ij[j][i] + t_max - w[n][k][j_][i_][j][i]*t_max >= 0"
   ]
  },
  {
   "cell_type": "markdown",
   "id": "60b8a976-6f76-47f1-8ffe-7658bae56aa1",
   "metadata": {},
   "source": [
    "# Contraintes"
   ]
  },
  {
   "cell_type": "code",
   "execution_count": 19,
   "id": "8e1cf39b-e68c-4984-a73c-f8f097ba0782",
   "metadata": {},
   "outputs": [],
   "source": [
    "## CONTRAINTES DE PRECEDENCE DES OPERATIONS\n",
    "for j in range(nbJobs):\n",
    "    for i in range(nbOperationsParJob[j] - 1):\n",
    "            model += t_ij[j][i+1] >= t_ij[j][i] + xsum(x_ijkn[n][k][j][i] * dureeOperations[k][j][i]\n",
    "                                                       for n in range(n_max)\n",
    "                                                       for k in range(nbMachines))\n",
    "\n",
    "## CONTRAINTES DE NON CHEVAUVHEMENT DES OPERATIONS SUR LES MACHINES\n",
    "for j_ in range(nbJobs):\n",
    "    for i_ in range(nbOperationsParJob[j_]):\n",
    "        model += t_ij[j_][i_] >=  xsum(prod_w_t[n][k][j_][i_][j][i] + w[n][k][j_][i_][j][i] * dureeOperations[k][j][i]\n",
    "                                       for n in range(n_max)\n",
    "                                       for k in range(nbMachines)\n",
    "                                       for j in range(nbJobs)\n",
    "                                       for i in range(nbOperationsParJob[j]))\n",
    "\n",
    "## CONTRAINTES POUR IMPOSER QUE CHAQUE OPERATION SOIT ORDONNANCEE\n",
    "for j in range(nbJobs):\n",
    "    for i in range(nbOperationsParJob[j]):\n",
    "        model += xsum(x_ijkn[n][k][j][i] for n in range(n_max) for k in range(nbMachines)) == 1\n",
    "\n",
    "## CONTRAINTES SUR LES INDCES n DES OPERATIONS DES MACHINES\n",
    "for k in range(nbMachines):\n",
    "    for n in range(n_max-1):\n",
    "        model += v_kn[n][k] >= v_kn[n+1][k]\n",
    "        model += v_kn[n][k] <= 1"
   ]
  },
  {
   "cell_type": "markdown",
   "id": "fbc46468-9282-49e5-9afe-3da50912b264",
   "metadata": {},
   "source": [
    "# Fonction Objectif"
   ]
  },
  {
   "cell_type": "code",
   "execution_count": 20,
   "id": "b61c75cd-d723-47b9-98f6-b0bf9c1f69c5",
   "metadata": {},
   "outputs": [],
   "source": [
    "for j in range(nbJobs):\n",
    "    model += Cmax >= t_ij[j][nbOperationsParJob[j]-1] + xsum(x_ijkn[n][k][j][nbOperationsParJob[j]-1] * dureeOperations[k][j][nbOperationsParJob[j]-1] \n",
    "                                                             for n in range(n_max) \n",
    "                                                             for k in range(nbMachines))"
   ]
  },
  {
   "cell_type": "code",
   "execution_count": 21,
   "id": "69c0708d-9cc2-42ec-b0e1-5faae4597301",
   "metadata": {},
   "outputs": [
    {
     "data": {
      "text/plain": [
       "<OptimizationStatus.OPTIMAL: 0>"
      ]
     },
     "execution_count": 21,
     "metadata": {},
     "output_type": "execute_result"
    }
   ],
   "source": [
    "model.objective = minimize(Cmax)\n",
    "model.optimize()"
   ]
  },
  {
   "cell_type": "code",
   "execution_count": 22,
   "id": "4c4db57b-458c-404b-939b-927bb9a26d08",
   "metadata": {},
   "outputs": [
    {
     "name": "stdout",
     "output_type": "stream",
     "text": [
      "###############################\n",
      "w[1][1][1][2][1][1] = 1.0\n",
      "w[1][3][1][3][3][1] = 1.0\n",
      "w[2][3][1][4][1][3] = 1.0\n",
      "w[1][2][2][2][2][1] = 1.0\n",
      "w[2][1][3][2][1][2] = 1.0\n",
      "w[3][1][3][3][3][2] = 1.0\n",
      "###############################\n",
      "x_ijkn[1][1][1][1] = 1.0\n",
      "x_ijkn[1][2][2][1] = 1.0\n",
      "x_ijkn[1][3][3][1] = 1.0\n",
      "x_ijkn[2][1][1][2] = 1.0\n",
      "x_ijkn[2][2][2][2] = 1.0\n",
      "x_ijkn[2][3][1][3] = 1.0\n",
      "x_ijkn[3][1][3][2] = 1.0\n",
      "x_ijkn[3][3][1][4] = 1.0\n",
      "x_ijkn[4][1][3][3] = 1.0\n",
      "###############################\n",
      "t_ij[1][1] = 0.0\n",
      "t_ij[1][2] = 5.0\n",
      "t_ij[1][3] = 9.0\n",
      "t_ij[1][4] = 17.0\n",
      "t_ij[2][1] = 0.0\n",
      "t_ij[2][2] = 13.0\n",
      "t_ij[3][1] = 0.0\n",
      "t_ij[3][2] = 9.0\n",
      "t_ij[3][3] = 14.0\n"
     ]
    }
   ],
   "source": [
    "# Affichage des valeurs des variables de décision\n",
    "print('###############################')\n",
    "for j_ in range(nbJobs):\n",
    "    for i_ in range(nbOperationsParJob[j_]):\n",
    "        for n in range(n_max):\n",
    "            for k in range(nbMachines):\n",
    "                for j in range(nbJobs):\n",
    "                    for i in range(nbOperationsParJob[j]):\n",
    "                        if w[n][k][j_][i_][j][i].x != 0:\n",
    "                            print(f\"w[{n+1}][{k+1}][{j_+1}][{i_+1}][{j+1}][{i+1}] = {w[n][k][j_][i_][j][i].x}\")\n",
    "print('###############################')\n",
    "for n in range(n_max):\n",
    "    for k in range(nbMachines):\n",
    "        for j in range(nbJobs):\n",
    "            for i in range(nbOperationsParJob[j]):\n",
    "                if x_ijkn[n][k][j][i].x != 0:\n",
    "                    print(f\"x_ijkn[{n+1}][{k+1}][{j+1}][{i+1}] = {x_ijkn[n][k][j][i].x}\")             \n",
    "print('###############################')\n",
    "for j in range(nbJobs):\n",
    "    for i in range(nbOperationsParJob[j]):\n",
    "        print(f\"t_ij[{j+1}][{i+1}] = {t_ij[j][i].x}\")"
   ]
  },
  {
   "cell_type": "code",
   "execution_count": 23,
   "id": "45ab56fe-8b87-4460-8112-d2089ffc70df",
   "metadata": {},
   "outputs": [],
   "source": [
    "def creerDiagrammeGantt(dureeOperations, couleurMachines):\n",
    "    taches = []\n",
    "    for j in range(nbJobs):\n",
    "        for i in range(nbOperationsParJob[j]):\n",
    "            for n in range(n_max):\n",
    "                for k in range(nbMachines):\n",
    "                    if x_ijkn[n][k][j][i].x == 1:\n",
    "                        machine = k+1\n",
    "            start_time = t_ij[j][i].x\n",
    "            finish_time = start_time + dureeOperations[machine-1][j][i]\n",
    "            tache = dict(task=f\"Machine {machine}\", \n",
    "                         start=start_time, \n",
    "                         end=finish_time, \n",
    "                         rsc=f\"J{j+1}\",\n",
    "                         label=f\"O{j+1}:{i+1}\", \n",
    "                         info=f\"J{j+1}\")\n",
    "            taches.append(tache)\n",
    "    taches = sorted(taches, key=lambda x: x['task'])\n",
    "    return taches"
   ]
  },
  {
   "cell_type": "code",
   "execution_count": 26,
   "id": "9756bfbf-c8df-4d60-9861-2a9c832d9cf7",
   "metadata": {},
   "outputs": [
    {
     "name": "stdout",
     "output_type": "stream",
     "text": [
      "Valeur Cmax :  21.0\n"
     ]
    },
    {
     "data": {
      "text/html": [
       "\n",
       "        <iframe\n",
       "            width=\"100%\"\n",
       "            height=\"650\"\n",
       "            src=\"http://127.0.0.1:8070/\"\n",
       "            frameborder=\"0\"\n",
       "            allowfullscreen\n",
       "            \n",
       "        ></iframe>\n",
       "        "
      ],
      "text/plain": [
       "<IPython.lib.display.IFrame at 0x2735ed6fc50>"
      ]
     },
     "metadata": {},
     "output_type": "display_data"
    }
   ],
   "source": [
    "print(\"Valeur Cmax : \", Cmax.x)\n",
    "fig = creerDiagrammeGantt(dureeOperations, couleurMachines)\n",
    "app = create_gantt_chart(couleurMachines, fig, title=\"Ordonnancement\", cell_widht=30, cell_height=40)\n",
    "if __name__ == '__main__':\n",
    "    app.run_server(debug=True, port=8070)"
   ]
  },
  {
   "cell_type": "code",
   "execution_count": null,
   "id": "765d8441-72db-4e36-b880-5ca09a783c29",
   "metadata": {},
   "outputs": [],
   "source": []
  }
 ],
 "metadata": {
  "kernelspec": {
   "display_name": "Python 3 (ipykernel)",
   "language": "python",
   "name": "python3"
  },
  "language_info": {
   "codemirror_mode": {
    "name": "ipython",
    "version": 3
   },
   "file_extension": ".py",
   "mimetype": "text/x-python",
   "name": "python",
   "nbconvert_exporter": "python",
   "pygments_lexer": "ipython3",
   "version": "3.11.7"
  }
 },
 "nbformat": 4,
 "nbformat_minor": 5
}
