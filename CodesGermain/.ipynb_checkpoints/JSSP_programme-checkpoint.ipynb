{
 "cells": [
  {
   "cell_type": "markdown",
   "id": "cfd819ab-22f0-46ba-90ad-7527f73dc92f",
   "metadata": {},
   "source": [
    "# Model"
   ]
  },
  {
   "cell_type": "code",
   "execution_count": 381,
   "id": "37578b3a-9e2c-4266-8904-18b2502a052e",
   "metadata": {},
   "outputs": [],
   "source": [
    "from mip import Model, xsum, maximize, minimize, BINARY\n",
    "import dash, dash_html_components as html, dash_core_components as dcc\n",
    "from dash.dependencies import Input, Output\n",
    "import plotly.figure_factory as ff\n",
    "from datetime import datetime, timedelta\n",
    "import numpy as np\n",
    "import matplotlib.pyplot as plt\n",
    "import random"
   ]
  },
  {
   "cell_type": "code",
   "execution_count": 382,
   "id": "956d6da9-cbdd-4901-89de-59332674f350",
   "metadata": {},
   "outputs": [],
   "source": [
    "model = Model()"
   ]
  },
  {
   "cell_type": "markdown",
   "id": "5844263e-b680-42a0-9c32-aca003ee11e7",
   "metadata": {},
   "source": [
    "# Définition des constant"
   ]
  },
  {
   "cell_type": "code",
   "execution_count": 383,
   "id": "4c13f4cc-08c2-47fa-a654-f93d0ed1e04d",
   "metadata": {},
   "outputs": [],
   "source": [
    "n_max = 4\n",
    "nbMachines = 2\n",
    "nbJobs = 2\n",
    "nbOperationsParJob = [4, 2, 3]\n",
    "nbComposants = [3, 3, 2, 2]\n",
    "\n",
    "degradations = [\n",
    " [[[2, 3, 2, 4], [3, 2], [3, 3, 4]],\n",
    "  [[3, 4, 3, 5], [4, 3], [4, 3, 5]],\n",
    "  [[2, 3, 2, 4], [3, 2], [3, 2, 4]]\n",
    " ],\n",
    " [[[3, 4, 3, 5], [4, 3], [4, 3, 5]],\n",
    "  [[4, 5, 4, 6], [5, 4], [5, 4, 6]],\n",
    "  [[3, 4, 3, 5], [4, 3], [4, 3, 5]]\n",
    " ],\n",
    " [[[1, 2, 1, 3], [2, 1], [2, 1, 3]],\n",
    "  [[2, 3, 2, 4], [3, 2], [3, 2, 4]]\n",
    " ],\n",
    " [[[2, 3, 2, 2], [3, 4], [3, 1, 1]],\n",
    "  [[3, 4, 3, 3], [2, 4], [2, 3, 1]]\n",
    " ]\n",
    "]\n",
    "seuils_degradation = [\n",
    "    [6, 5, 8],\n",
    "    [5, 9, 4],\n",
    "    [10, 7],\n",
    "    [5, 7]\n",
    "]\n",
    "dureeOperations = [\n",
    "    [[5, 4, 6, 3], [7, 6], [8, 5, 7]],\n",
    "    [[7, 6, 8, 5], [6, 8], [10, 7, 9]],\n",
    "    [[6, 5, 7, 4], [8, 7], [9, 6, 8]],\n",
    "    [[8, 7, 9, 6], [10, 19], [11, 8, 10]]]\n",
    "   \n",
    "dureeMaintenances = [\n",
    "    [4, 4, 6],\n",
    "    [3, 5, 4],\n",
    "    [3, 2, 0],\n",
    "    [3, 3, 0]\n",
    "]\n",
    "couleurMachines = {'J1':'#ff9999', 'J2':'#99ff99', 'J3':'#9999ff', 'M':'#2F4F4F'}\n",
    "date_actuelle = datetime.now().date()"
   ]
  },
  {
   "cell_type": "markdown",
   "id": "0312d62b-866b-4254-b34e-dc2df009977e",
   "metadata": {},
   "source": [
    "# Définfition des Variables"
   ]
  },
  {
   "cell_type": "code",
   "execution_count": 384,
   "id": "e467c77d-8786-45cd-8a68-830aee3d8659",
   "metadata": {},
   "outputs": [],
   "source": [
    "maxComposants = max(nbComposants)\n",
    "D_max = 999\n",
    "t_max = 50\n",
    "M = 999\n",
    "invM = 1/M\n",
    "Cmax = model.add_var()\n",
    "x_ijkn = [[[[model.add_var(var_type=BINARY) for i in range(nbOperationsParJob[j])] for j in range(nbJobs)] for k in range(nbMachines)] for n in range(n_max)]\n",
    "y_kln = [[[model.add_var(var_type=BINARY) for l in range(nbComposants[k])] for k in range(nbMachines)] for n in range(n_max)]\n",
    "v_kn= [[model.add_var() for k in range(nbMachines)] for n in range(n_max)]\n",
    "w = [[[[[[model.add_var(var_type=BINARY) for i in range(nbOperationsParJob[j])] for j in range(nbJobs)] for i_ in range(nbOperationsParJob[j_])] for j_ in range(nbJobs)] for m in range(nbMachines)] for n in range(n_max)]\n",
    "z = [[[[[[model.add_var(var_type=BINARY) for i in range(nbOperationsParJob[j])] for j in range(nbJobs)] for i_ in range(nbOperationsParJob[j_])] for j_ in range(nbJobs)] for m in range(nbMachines)] for n in range(n_max)]\n",
    "d_kln = [[[model.add_var() for l in range(nbComposants[k])] for k in range(nbMachines)] for n in range(n_max)]\n",
    "prod_y_d = [[[model.add_var() for l in range(nbComposants[k])] for k in range(nbMachines)] for n in range(n_max)]\n",
    "prod_w_t = [[[[[[model.add_var() for i in range(nbOperationsParJob[j])] for j in range(nbJobs)] for i_ in range(nbOperationsParJob[j_])] for j_ in range(nbJobs)] for m in range(nbMachines)] for n in range(n_max)]\n",
    "D_kln = [[[model.add_var() for l in range(nbComposants[k])] for k in range(nbMachines)] for n in range(n_max)]\n",
    "t_ij = [[model.add_var() for i in range(nbOperationsParJob[j])] for j in range(nbJobs)]"
   ]
  },
  {
   "cell_type": "markdown",
   "id": "2d9064ba-49ab-4c76-a94c-18ce010d1e2c",
   "metadata": {},
   "source": [
    "# Calcul de la Dégradation"
   ]
  },
  {
   "cell_type": "code",
   "execution_count": 385,
   "id": "ecd59697-d7ef-4656-b6f1-96c076b9d408",
   "metadata": {},
   "outputs": [],
   "source": [
    "for n in range (n_max):\n",
    "    for k in range(nbMachines):\n",
    "        for l in range(nbComposants[k]):\n",
    "            sum = 0\n",
    "            for j in range(nbJobs):\n",
    "                for i in range(nbOperationsParJob[j]):\n",
    "                    sum += x_ijkn[n][k][j][i] * degradations[k][l][j][i]\n",
    "            model += d_kln[n][k][l] == sum\n",
    "            \n",
    "for k in range(nbMachines):\n",
    "        for l in range(nbComposants[k]):\n",
    "            D_kln[0][k][l] =  d_kln[0][k][l]\n",
    "for n in range(n_max-1):\n",
    "    for k in range(nbMachines):\n",
    "        for l in range(nbComposants[k]):\n",
    "            D_kln[n+1][k][l] = D_kln[n][k][l] - prod_y_d[n][k][l] + d_kln[n+1][k][l]\n",
    "\n",
    "## prod_y_d[n-1][k][l] = y_kln[n-1][k][l]*D_kln[n-1][k][l]\n",
    "for n in range(n_max):\n",
    "    for k in range(nbMachines):\n",
    "        for l in range(nbComposants[k]):\n",
    "            model += prod_y_d[n][k][l] >= 0\n",
    "            model += prod_y_d[n][k][l] - y_kln[n][k][l] * D_max <= 0\n",
    "            model += prod_y_d[n][k][l] - D_kln[n][k][l] <= 0\n",
    "            model += prod_y_d[n][k][l] - D_kln[n][k][l] + D_max - y_kln[n][k][l]*D_max >= 0"
   ]
  },
  {
   "cell_type": "markdown",
   "id": "9f161ddf-58a6-4c71-9e5a-6f043e9e19c2",
   "metadata": {},
   "source": [
    "# Calcul des variables"
   ]
  },
  {
   "cell_type": "code",
   "execution_count": 386,
   "id": "9c0e463f-552e-45e2-81b7-6f92288df5f2",
   "metadata": {},
   "outputs": [],
   "source": [
    "## CALCUL DE LA VARIABLE y\n",
    "for n in range(n_max):\n",
    "    for k in range(nbMachines):\n",
    "        for l in range(nbComposants[k]):\n",
    "            model += M*y_kln[n][k][l] - D_kln[n][k][l] + seuils_degradation[k][l]>= 0\n",
    "            model += y_kln[n][k][l] - invM*D_kln[n][k][l] + invM*seuils_degradation[k][l] <= 1\n",
    "\n",
    "## CALCUL DE LA VARIABLE v\n",
    "for n in range(n_max):\n",
    "    for k in range(nbMachines):\n",
    "        sum=0\n",
    "        for j in range(nbJobs):\n",
    "            for i in range(nbOperationsParJob[j]):\n",
    "                sum += x_ijkn[n][k][j][i]\n",
    "        model += v_kn[n][k] == sum\n",
    "\n",
    "## CALCUL DE LA VARIABLE w\n",
    "for n in range(n_max-1):\n",
    "    for k in range(nbMachines):\n",
    "        for j_ in range(nbJobs):\n",
    "            for i_ in range(nbOperationsParJob[j_]):\n",
    "                for j in range(nbJobs):\n",
    "                    for i in range(nbOperationsParJob[j]):\n",
    "                        model += w[n][k][j_][i_][j][i] - x_ijkn[n][k][j][i] - x_ijkn[n+1][k][j_][i_] >= -1\n",
    "                        model += w[n][k][j_][i_][j][i] - (1/2)*x_ijkn[n][k][j][i] - (1/2)*x_ijkn[n+1][k][j_][i_] <= 0\n",
    "\n",
    "## CALCUL DE LA VARIABLE z\n",
    "inv_3 = 1/3\n",
    "for n in range(n_max-1):\n",
    "    for k in range(nbMachines):\n",
    "        for j_ in range(nbJobs):\n",
    "            for i_ in range(nbOperationsParJob[j_]):\n",
    "                for j in range(nbJobs):\n",
    "                    for i in range(nbOperationsParJob[j]):\n",
    "                        for l in range(nbComposants[k]):\n",
    "                            model += z[n][k][j_][i_][j][i] - w[n][k][j_][i_][j][i] - y_kln[n][k][l] >= -1\n",
    "                            model += z[n][k][j_][i_][j][i] - (1/2)*w[n][k][j_][i_][j][i] - (1/2)*y_kln[n][k][l] <= 0\n",
    "\n",
    "## LINEARISATION DE w ET DE tij\n",
    "for n in range(n_max):\n",
    "    for k in range(nbMachines):\n",
    "        for j_ in range(nbJobs):\n",
    "            for i_ in range(nbOperationsParJob[j_]):\n",
    "                for j in range(nbJobs):\n",
    "                    for i in range(nbOperationsParJob[j]):\n",
    "                        model += prod_w_t[n][k][j_][i_][j][i] >= 0\n",
    "                        model += prod_w_t[n][k][j_][i_][j][i] - w[n][k][j_][i_][j][i] * t_max <= 0\n",
    "                        model += prod_w_t[n][k][j_][i_][j][i] - t_ij[j][i] <= 0\n",
    "                        model += prod_w_t[n][k][j_][i_][j][i] - t_ij[j][i] + t_max - w[n][k][j_][i_][j][i]*t_max >= 0"
   ]
  },
  {
   "cell_type": "markdown",
   "id": "60b8a976-6f76-47f1-8ffe-7658bae56aa1",
   "metadata": {},
   "source": [
    "# Contraintes"
   ]
  },
  {
   "cell_type": "code",
   "execution_count": 387,
   "id": "8e1cf39b-e68c-4984-a73c-f8f097ba0782",
   "metadata": {},
   "outputs": [],
   "source": [
    "## CONTRAINTES DE PRECEDENCE DES OPERATIONS\n",
    "for j in range(nbJobs):\n",
    "    for i in range(nbOperationsParJob[j] - 1):\n",
    "            sum_x = 0\n",
    "            for n in range(n_max):\n",
    "                for k in range(nbMachines):\n",
    "                    sum_x += x_ijkn[n][k][j][i] * dureeOperations[k][j][i]\n",
    "            model += t_ij[j][i+1] >= t_ij[j][i] + sum_x\n",
    "\n",
    "## CONTRAINTES DE NON CHEVAUVHEMENT DES OPERATIONS SUR LES MACHINES\n",
    "for l in range(maxComposants):\n",
    "    for j_ in range(nbJobs):\n",
    "        for i_ in range(nbOperationsParJob[j_]):\n",
    "            sum = 0\n",
    "            sum2 = 0\n",
    "            sum3 = 0\n",
    "            for n in range(n_max):\n",
    "                for k in range(nbMachines):\n",
    "                    for j in range(nbJobs):\n",
    "                        for i in range(nbOperationsParJob[j]):\n",
    "                            sum += prod_w_t[n][k][j_][i_][j][i]\n",
    "                            sum2 += w[n][k][j_][i_][j][i] * dureeOperations[k][j][i]\n",
    "                            sum3 += z[n][k][j_][i_][j][i] * dureeMaintenances[k][l]\n",
    "            model += t_ij[j_][i_] >=  sum + sum2 + sum3\n",
    "\n",
    "## CONTRAINTES POUR IMPOSER QUE CHAQUE OPERATION SOIT ORDONNANCEE\n",
    "for j in range(nbJobs):\n",
    "    for i in range(nbOperationsParJob[j]):\n",
    "        model += xsum(x_ijkn[n][k][j][i] for k in range(nbMachines) for n in range(n_max)) == 1\n",
    "\n",
    "## CONTRAINTES SUR LES INDCES n DES OPERATIONS DES MACHINES\n",
    "for k in range(nbMachines):\n",
    "    for n in range(n_max-1):\n",
    "        model += v_kn[n][k] >= v_kn[n+1][k]\n",
    "        model += v_kn[n][k] <= 1"
   ]
  },
  {
   "cell_type": "markdown",
   "id": "fbc46468-9282-49e5-9afe-3da50912b264",
   "metadata": {},
   "source": [
    "# Fonction Objectif"
   ]
  },
  {
   "cell_type": "code",
   "execution_count": 388,
   "id": "b61c75cd-d723-47b9-98f6-b0bf9c1f69c5",
   "metadata": {},
   "outputs": [],
   "source": [
    "for j in range(nbJobs):\n",
    "    model += Cmax >= t_ij[j][nbOperationsParJob[j]-1] + xsum(x_ijkn[n][k][j][nbOperationsParJob[j]-1] * dureeOperations[k][j][nbOperationsParJob[j]-1] for k in range(nbMachines) for n in range(n_max))"
   ]
  },
  {
   "cell_type": "code",
   "execution_count": 389,
   "id": "69c0708d-9cc2-42ec-b0e1-5faae4597301",
   "metadata": {},
   "outputs": [
    {
     "data": {
      "text/plain": [
       "<OptimizationStatus.OPTIMAL: 0>"
      ]
     },
     "execution_count": 389,
     "metadata": {},
     "output_type": "execute_result"
    }
   ],
   "source": [
    "model.objective = minimize(Cmax)\n",
    "model.optimize()"
   ]
  },
  {
   "cell_type": "code",
   "execution_count": 390,
   "id": "4c4db57b-458c-404b-939b-927bb9a26d08",
   "metadata": {},
   "outputs": [
    {
     "name": "stdout",
     "output_type": "stream",
     "text": [
      "###############################\n",
      "w[1][2][1][2][2][1] = 1.0\n",
      "w[1][1][1][3][1][1] = 1.0\n",
      "w[3][2][1][4][2][2] = 1.0\n",
      "w[2][2][2][2][1][2] = 1.0\n",
      "###############################\n",
      "dégradations machine 1 :\n",
      "[2.0, 4.0, 4.0, 4.0]\n",
      "[3.0, 6.0, 0.0, 0.0]\n",
      "[2.0, 4.0, 4.0, 4.0]\n",
      "dégradations machine 2 :\n",
      "[4.0, 8.0, 3.0, 8.0]\n",
      "[5.0, 10.0, 4.0, 10.0]\n",
      "[4.0, 8.0, 3.0, 8.0]\n",
      "###############################\n",
      "t_ij[1][1] = 0.0\n",
      "t_ij[1][2] = 6.0\n",
      "t_ij[1][3] = 12.0\n",
      "t_ij[1][4] = 25.0\n",
      "t_ij[2][1] = 0.0\n",
      "t_ij[2][2] = 17.0\n",
      "###############################\n",
      "maintenance machine:1, 'composant':2, 'debut':18.0, 'fin':4\n",
      "maintenance machine:2, 'composant':1, 'debut':12.0, 'fin':3\n",
      "maintenance machine:2, 'composant':2, 'debut':12.0, 'fin':5\n",
      "maintenance machine:2, 'composant':3, 'debut':12.0, 'fin':4\n",
      "maintenance machine:2, 'composant':1, 'debut':30.0, 'fin':3\n",
      "maintenance machine:2, 'composant':2, 'debut':30.0, 'fin':5\n",
      "maintenance machine:2, 'composant':3, 'debut':30.0, 'fin':4\n"
     ]
    }
   ],
   "source": [
    "# Affichage des valeurs des variables de décision\n",
    "print('###############################')\n",
    "for j_ in range(nbJobs):\n",
    "    for i_ in range(nbOperationsParJob[j_]):\n",
    "        for n in range(n_max):\n",
    "            for k in range(nbMachines):\n",
    "                for j in range(nbJobs):\n",
    "                    for i in range(nbOperationsParJob[j]):\n",
    "                        if w[n][k][j_][i_][j][i].x != 0:\n",
    "                            print(f\"w[{n+1}][{k+1}][{j_+1}][{i_+1}][{j+1}][{i+1}] = {w[n][k][j_][i_][j][i].x}\")\n",
    "# print('###############################')\n",
    "# for j_ in range(nbJobs):\n",
    "#     for i_ in range(nbOperationsParJob[j_]):\n",
    "#         for n in range(n_max):\n",
    "#             for k in range(nbMachines):\n",
    "#                 for j in range(nbJobs):\n",
    "#                     for i in range(nbOperationsParJob[j]):\n",
    "#                         if prod_w_t[n][k][j_][i_][j][i].x != 0:\n",
    "#                             print(f\"prod_w_t[{n+1}][{k+1}][{j_+1}][{i_+1}][{j+1}][{i+1}] = {prod_w_t[n][k][j_][i_][j][i].x}\")\n",
    "print('###############################')\n",
    "deg = [[] for k in range(nbMachines) for l in range(nbComposants[k])]\n",
    "for n in range(n_max):\n",
    "    ind = 0\n",
    "    for k in range(nbMachines):\n",
    "        for l in range(nbComposants[k]):\n",
    "            deg[ind].append(D_kln[n][k][l].x)\n",
    "            ind += 1\n",
    "ind = 0 \n",
    "for k in range(nbMachines):\n",
    "    print(f\"dégradations machine {k+1} :\")\n",
    "    for l in range(nbComposants[k]):\n",
    "        print(deg[ind])\n",
    "        ind += 1\n",
    "print('###############################')\n",
    "for j in range(nbJobs):\n",
    "    for i in range(nbOperationsParJob[j]):\n",
    "        print(f\"t_ij[{j+1}][{i+1}] = {t_ij[j][i].x}\")\n",
    "print('###############################')\n",
    "for n in range(n_max):\n",
    "    for k in range(nbMachines):\n",
    "        for l in range(nbComposants[k]):\n",
    "            if y_kln[n][k][l].x == 1:\n",
    "                debut = 0\n",
    "                for j in range(nbJobs):\n",
    "                    for i in range(nbOperationsParJob[j]):\n",
    "                        if x_ijkn[n][k][j][i].x == 1:\n",
    "                            print(f\"maintenance machine:{k+1}, 'composant':{l+1}, 'debut':{t_ij[j][i].x + dureeOperations[k][j][i]}, 'fin':{debut+dureeMaintenances[k][l]}\")"
   ]
  },
  {
   "cell_type": "code",
   "execution_count": 391,
   "id": "45ab56fe-8b87-4460-8112-d2089ffc70df",
   "metadata": {},
   "outputs": [
    {
     "name": "stdout",
     "output_type": "stream",
     "text": [
      "30.0\n"
     ]
    }
   ],
   "source": [
    "solution = []\n",
    "tempsDebut = []\n",
    "maintenances = []\n",
    "for j in range(nbJobs):\n",
    "    for i in range(nbOperationsParJob[j]):\n",
    "        tempsDebut.append(t_ij[j][i].x)\n",
    "for n in range(n_max):\n",
    "    for k in range(nbMachines):\n",
    "        for l in range(nbComposants[k]):\n",
    "            if y_kln[n][k][l].x == 1:\n",
    "                debut = 0\n",
    "                for j in range(nbJobs):\n",
    "                    for i in range(nbOperationsParJob[j]):\n",
    "                        if x_ijkn[n][k][j][i].x == 1:\n",
    "                            debut = t_ij[j][i].x + dureeOperations[k][j][i]\n",
    "                            maintenance = {'machine':k+1, 'composant':l+1, 'debut':debut, 'fin':debut+dureeMaintenances[k][l]}\n",
    "                            maintenances.append(maintenance)\n",
    "for j in range(nbJobs):\n",
    "    for i in range(nbOperationsParJob[j]):\n",
    "        for n in range(n_max):\n",
    "            for k in range(nbMachines):\n",
    "                if x_ijkn[n][k][j][i].x == 1:\n",
    "                    solution.append(k+1)\n",
    "def creerDiagrammeGantt(solution, tempsDebut, dureeOperations, maintenances, couleurMachines):\n",
    "    fig = []\n",
    "    taches = []\n",
    "    ind = 0\n",
    "    for j in range(nbJobs):\n",
    "        for i in range(nbOperationsParJob[j]):\n",
    "            machine = solution[ind]\n",
    "            start_time = date_actuelle + timedelta(days=tempsDebut[ind])\n",
    "            finish_time = start_time + timedelta(days=dureeOperations[machine-1][j][i] -1)\n",
    "            tache = dict(Task=f\"Machine {machine}\", Start=start_time.strftime(\"%Y-%m-%d\"), Finish=finish_time.strftime(\"%Y-%m-%d\"), Resource=f\"J{j+1}\")\n",
    "            taches.append(tache)\n",
    "            ind += 1\n",
    "    for elt in maintenances:\n",
    "        machine = elt['machine']\n",
    "        start_time = date_actuelle + timedelta(days=elt['debut'])\n",
    "        finish_time = date_actuelle + timedelta(days=elt['fin']-1)\n",
    "        tache = dict(Task=f\"Machine {machine}\", Start=start_time.strftime(\"%Y-%m-%d\"), Finish=finish_time.strftime(\"%Y-%m-%d\"), Resource=f\"M\")\n",
    "        taches.append(tache)\n",
    "    fig = ff.create_gantt(taches, index_col='Resource', show_colorbar=True, group_tasks=True, showgrid_x=True, showgrid_y=True, title=f'Ordonnancement', colors=couleurMachines)\n",
    "    fig['layout']['xaxis'].update(tickvals=[])\n",
    "    return fig\n",
    "print(Cmax.x)"
   ]
  },
  {
   "cell_type": "code",
   "execution_count": 392,
   "id": "9756bfbf-c8df-4d60-9861-2a9c832d9cf7",
   "metadata": {},
   "outputs": [
    {
     "data": {
      "application/vnd.plotly.v1+json": {
       "config": {
        "plotlyServerURL": "https://plot.ly"
       },
       "data": [
        {
         "fill": "toself",
         "fillcolor": "rgb(153, 255, 153)",
         "hoverinfo": "name",
         "legendgroup": "rgb(153, 255, 153)",
         "mode": "none",
         "name": "J2",
         "type": "scatter",
         "x": [
          "2024-06-01",
          "2024-06-06",
          "2024-06-06",
          "2024-06-01",
          "2024-06-01",
          "2024-06-18",
          "2024-06-25",
          "2024-06-25",
          "2024-06-18"
         ],
         "y": [
          -0.2,
          -0.2,
          0.2,
          0.2,
          null,
          -0.2,
          -0.2,
          0.2,
          0.2
         ]
        },
        {
         "fill": "toself",
         "fillcolor": "rgb(255, 153, 153)",
         "hoverinfo": "name",
         "legendgroup": "rgb(255, 153, 153)",
         "mode": "none",
         "name": "J1",
         "type": "scatter",
         "x": [
          "2024-06-01",
          "2024-06-05",
          "2024-06-05",
          "2024-06-01",
          "2024-06-01",
          "2024-06-07",
          "2024-06-12",
          "2024-06-12",
          "2024-06-07",
          "2024-06-07",
          "2024-06-13",
          "2024-06-18",
          "2024-06-18",
          "2024-06-13",
          "2024-06-13",
          "2024-06-26",
          "2024-06-30",
          "2024-06-30",
          "2024-06-26"
         ],
         "y": [
          0.8,
          0.8,
          1.2,
          1.2,
          null,
          -0.2,
          -0.2,
          0.2,
          0.2,
          null,
          0.8,
          0.8,
          1.2,
          1.2,
          null,
          -0.2,
          -0.2,
          0.2,
          0.2
         ]
        },
        {
         "fill": "toself",
         "fillcolor": "rgb(47, 79, 79)",
         "hoverinfo": "name",
         "legendgroup": "rgb(47, 79, 79)",
         "mode": "none",
         "name": "M",
         "type": "scatter",
         "x": [
          "2024-06-19",
          "2024-06-22",
          "2024-06-22",
          "2024-06-19",
          "2024-06-19",
          "2024-06-13",
          "2024-06-15",
          "2024-06-15",
          "2024-06-13",
          "2024-06-13",
          "2024-06-13",
          "2024-06-17",
          "2024-06-17",
          "2024-06-13",
          "2024-06-13",
          "2024-06-13",
          "2024-06-16",
          "2024-06-16",
          "2024-06-13",
          "2024-06-13",
          "2024-07-01",
          "2024-07-03",
          "2024-07-03",
          "2024-07-01",
          "2024-07-01",
          "2024-07-01",
          "2024-07-05",
          "2024-07-05",
          "2024-07-01",
          "2024-07-01",
          "2024-07-01",
          "2024-07-04",
          "2024-07-04",
          "2024-07-01"
         ],
         "y": [
          0.8,
          0.8,
          1.2,
          1.2,
          null,
          -0.2,
          -0.2,
          0.2,
          0.2,
          null,
          -0.2,
          -0.2,
          0.2,
          0.2,
          null,
          -0.2,
          -0.2,
          0.2,
          0.2,
          null,
          -0.2,
          -0.2,
          0.2,
          0.2,
          null,
          -0.2,
          -0.2,
          0.2,
          0.2,
          null,
          -0.2,
          -0.2,
          0.2,
          0.2
         ]
        },
        {
         "legendgroup": "rgb(153, 255, 153)",
         "marker": {
          "color": "rgb(153, 255, 153)",
          "opacity": 0,
          "size": 1
         },
         "mode": "markers",
         "name": "",
         "showlegend": false,
         "text": [
          null,
          null,
          null,
          null
         ],
         "type": "scatter",
         "x": [
          "2024-06-01",
          "2024-06-06",
          "2024-06-18",
          "2024-06-25"
         ],
         "y": [
          0,
          0,
          0,
          0
         ]
        },
        {
         "legendgroup": "rgb(255, 153, 153)",
         "marker": {
          "color": "rgb(255, 153, 153)",
          "opacity": 0,
          "size": 1
         },
         "mode": "markers",
         "name": "",
         "showlegend": false,
         "text": [
          null,
          null,
          null,
          null,
          null,
          null,
          null,
          null
         ],
         "type": "scatter",
         "x": [
          "2024-06-01",
          "2024-06-05",
          "2024-06-07",
          "2024-06-12",
          "2024-06-13",
          "2024-06-18",
          "2024-06-26",
          "2024-06-30"
         ],
         "y": [
          1,
          1,
          0,
          0,
          1,
          1,
          0,
          0
         ]
        },
        {
         "legendgroup": "rgb(47, 79, 79)",
         "marker": {
          "color": "rgb(47, 79, 79)",
          "opacity": 0,
          "size": 1
         },
         "mode": "markers",
         "name": "",
         "showlegend": false,
         "text": [
          null,
          null,
          null,
          null,
          null,
          null,
          null,
          null,
          null,
          null,
          null,
          null,
          null,
          null
         ],
         "type": "scatter",
         "x": [
          "2024-06-19",
          "2024-06-22",
          "2024-06-13",
          "2024-06-15",
          "2024-06-13",
          "2024-06-17",
          "2024-06-13",
          "2024-06-16",
          "2024-07-01",
          "2024-07-03",
          "2024-07-01",
          "2024-07-05",
          "2024-07-01",
          "2024-07-04"
         ],
         "y": [
          1,
          1,
          0,
          0,
          0,
          0,
          0,
          0,
          0,
          0,
          0,
          0,
          0,
          0
         ]
        }
       ],
       "layout": {
        "autosize": true,
        "hovermode": "closest",
        "showlegend": true,
        "template": {
         "data": {
          "bar": [
           {
            "error_x": {
             "color": "#2a3f5f"
            },
            "error_y": {
             "color": "#2a3f5f"
            },
            "marker": {
             "line": {
              "color": "#E5ECF6",
              "width": 0.5
             },
             "pattern": {
              "fillmode": "overlay",
              "size": 10,
              "solidity": 0.2
             }
            },
            "type": "bar"
           }
          ],
          "barpolar": [
           {
            "marker": {
             "line": {
              "color": "#E5ECF6",
              "width": 0.5
             },
             "pattern": {
              "fillmode": "overlay",
              "size": 10,
              "solidity": 0.2
             }
            },
            "type": "barpolar"
           }
          ],
          "carpet": [
           {
            "aaxis": {
             "endlinecolor": "#2a3f5f",
             "gridcolor": "white",
             "linecolor": "white",
             "minorgridcolor": "white",
             "startlinecolor": "#2a3f5f"
            },
            "baxis": {
             "endlinecolor": "#2a3f5f",
             "gridcolor": "white",
             "linecolor": "white",
             "minorgridcolor": "white",
             "startlinecolor": "#2a3f5f"
            },
            "type": "carpet"
           }
          ],
          "choropleth": [
           {
            "colorbar": {
             "outlinewidth": 0,
             "ticks": ""
            },
            "type": "choropleth"
           }
          ],
          "contour": [
           {
            "colorbar": {
             "outlinewidth": 0,
             "ticks": ""
            },
            "colorscale": [
             [
              0,
              "#0d0887"
             ],
             [
              0.1111111111111111,
              "#46039f"
             ],
             [
              0.2222222222222222,
              "#7201a8"
             ],
             [
              0.3333333333333333,
              "#9c179e"
             ],
             [
              0.4444444444444444,
              "#bd3786"
             ],
             [
              0.5555555555555556,
              "#d8576b"
             ],
             [
              0.6666666666666666,
              "#ed7953"
             ],
             [
              0.7777777777777778,
              "#fb9f3a"
             ],
             [
              0.8888888888888888,
              "#fdca26"
             ],
             [
              1,
              "#f0f921"
             ]
            ],
            "type": "contour"
           }
          ],
          "contourcarpet": [
           {
            "colorbar": {
             "outlinewidth": 0,
             "ticks": ""
            },
            "type": "contourcarpet"
           }
          ],
          "heatmap": [
           {
            "colorbar": {
             "outlinewidth": 0,
             "ticks": ""
            },
            "colorscale": [
             [
              0,
              "#0d0887"
             ],
             [
              0.1111111111111111,
              "#46039f"
             ],
             [
              0.2222222222222222,
              "#7201a8"
             ],
             [
              0.3333333333333333,
              "#9c179e"
             ],
             [
              0.4444444444444444,
              "#bd3786"
             ],
             [
              0.5555555555555556,
              "#d8576b"
             ],
             [
              0.6666666666666666,
              "#ed7953"
             ],
             [
              0.7777777777777778,
              "#fb9f3a"
             ],
             [
              0.8888888888888888,
              "#fdca26"
             ],
             [
              1,
              "#f0f921"
             ]
            ],
            "type": "heatmap"
           }
          ],
          "heatmapgl": [
           {
            "colorbar": {
             "outlinewidth": 0,
             "ticks": ""
            },
            "colorscale": [
             [
              0,
              "#0d0887"
             ],
             [
              0.1111111111111111,
              "#46039f"
             ],
             [
              0.2222222222222222,
              "#7201a8"
             ],
             [
              0.3333333333333333,
              "#9c179e"
             ],
             [
              0.4444444444444444,
              "#bd3786"
             ],
             [
              0.5555555555555556,
              "#d8576b"
             ],
             [
              0.6666666666666666,
              "#ed7953"
             ],
             [
              0.7777777777777778,
              "#fb9f3a"
             ],
             [
              0.8888888888888888,
              "#fdca26"
             ],
             [
              1,
              "#f0f921"
             ]
            ],
            "type": "heatmapgl"
           }
          ],
          "histogram": [
           {
            "marker": {
             "pattern": {
              "fillmode": "overlay",
              "size": 10,
              "solidity": 0.2
             }
            },
            "type": "histogram"
           }
          ],
          "histogram2d": [
           {
            "colorbar": {
             "outlinewidth": 0,
             "ticks": ""
            },
            "colorscale": [
             [
              0,
              "#0d0887"
             ],
             [
              0.1111111111111111,
              "#46039f"
             ],
             [
              0.2222222222222222,
              "#7201a8"
             ],
             [
              0.3333333333333333,
              "#9c179e"
             ],
             [
              0.4444444444444444,
              "#bd3786"
             ],
             [
              0.5555555555555556,
              "#d8576b"
             ],
             [
              0.6666666666666666,
              "#ed7953"
             ],
             [
              0.7777777777777778,
              "#fb9f3a"
             ],
             [
              0.8888888888888888,
              "#fdca26"
             ],
             [
              1,
              "#f0f921"
             ]
            ],
            "type": "histogram2d"
           }
          ],
          "histogram2dcontour": [
           {
            "colorbar": {
             "outlinewidth": 0,
             "ticks": ""
            },
            "colorscale": [
             [
              0,
              "#0d0887"
             ],
             [
              0.1111111111111111,
              "#46039f"
             ],
             [
              0.2222222222222222,
              "#7201a8"
             ],
             [
              0.3333333333333333,
              "#9c179e"
             ],
             [
              0.4444444444444444,
              "#bd3786"
             ],
             [
              0.5555555555555556,
              "#d8576b"
             ],
             [
              0.6666666666666666,
              "#ed7953"
             ],
             [
              0.7777777777777778,
              "#fb9f3a"
             ],
             [
              0.8888888888888888,
              "#fdca26"
             ],
             [
              1,
              "#f0f921"
             ]
            ],
            "type": "histogram2dcontour"
           }
          ],
          "mesh3d": [
           {
            "colorbar": {
             "outlinewidth": 0,
             "ticks": ""
            },
            "type": "mesh3d"
           }
          ],
          "parcoords": [
           {
            "line": {
             "colorbar": {
              "outlinewidth": 0,
              "ticks": ""
             }
            },
            "type": "parcoords"
           }
          ],
          "pie": [
           {
            "automargin": true,
            "type": "pie"
           }
          ],
          "scatter": [
           {
            "fillpattern": {
             "fillmode": "overlay",
             "size": 10,
             "solidity": 0.2
            },
            "type": "scatter"
           }
          ],
          "scatter3d": [
           {
            "line": {
             "colorbar": {
              "outlinewidth": 0,
              "ticks": ""
             }
            },
            "marker": {
             "colorbar": {
              "outlinewidth": 0,
              "ticks": ""
             }
            },
            "type": "scatter3d"
           }
          ],
          "scattercarpet": [
           {
            "marker": {
             "colorbar": {
              "outlinewidth": 0,
              "ticks": ""
             }
            },
            "type": "scattercarpet"
           }
          ],
          "scattergeo": [
           {
            "marker": {
             "colorbar": {
              "outlinewidth": 0,
              "ticks": ""
             }
            },
            "type": "scattergeo"
           }
          ],
          "scattergl": [
           {
            "marker": {
             "colorbar": {
              "outlinewidth": 0,
              "ticks": ""
             }
            },
            "type": "scattergl"
           }
          ],
          "scattermapbox": [
           {
            "marker": {
             "colorbar": {
              "outlinewidth": 0,
              "ticks": ""
             }
            },
            "type": "scattermapbox"
           }
          ],
          "scatterpolar": [
           {
            "marker": {
             "colorbar": {
              "outlinewidth": 0,
              "ticks": ""
             }
            },
            "type": "scatterpolar"
           }
          ],
          "scatterpolargl": [
           {
            "marker": {
             "colorbar": {
              "outlinewidth": 0,
              "ticks": ""
             }
            },
            "type": "scatterpolargl"
           }
          ],
          "scatterternary": [
           {
            "marker": {
             "colorbar": {
              "outlinewidth": 0,
              "ticks": ""
             }
            },
            "type": "scatterternary"
           }
          ],
          "surface": [
           {
            "colorbar": {
             "outlinewidth": 0,
             "ticks": ""
            },
            "colorscale": [
             [
              0,
              "#0d0887"
             ],
             [
              0.1111111111111111,
              "#46039f"
             ],
             [
              0.2222222222222222,
              "#7201a8"
             ],
             [
              0.3333333333333333,
              "#9c179e"
             ],
             [
              0.4444444444444444,
              "#bd3786"
             ],
             [
              0.5555555555555556,
              "#d8576b"
             ],
             [
              0.6666666666666666,
              "#ed7953"
             ],
             [
              0.7777777777777778,
              "#fb9f3a"
             ],
             [
              0.8888888888888888,
              "#fdca26"
             ],
             [
              1,
              "#f0f921"
             ]
            ],
            "type": "surface"
           }
          ],
          "table": [
           {
            "cells": {
             "fill": {
              "color": "#EBF0F8"
             },
             "line": {
              "color": "white"
             }
            },
            "header": {
             "fill": {
              "color": "#C8D4E3"
             },
             "line": {
              "color": "white"
             }
            },
            "type": "table"
           }
          ]
         },
         "layout": {
          "annotationdefaults": {
           "arrowcolor": "#2a3f5f",
           "arrowhead": 0,
           "arrowwidth": 1
          },
          "autotypenumbers": "strict",
          "coloraxis": {
           "colorbar": {
            "outlinewidth": 0,
            "ticks": ""
           }
          },
          "colorscale": {
           "diverging": [
            [
             0,
             "#8e0152"
            ],
            [
             0.1,
             "#c51b7d"
            ],
            [
             0.2,
             "#de77ae"
            ],
            [
             0.3,
             "#f1b6da"
            ],
            [
             0.4,
             "#fde0ef"
            ],
            [
             0.5,
             "#f7f7f7"
            ],
            [
             0.6,
             "#e6f5d0"
            ],
            [
             0.7,
             "#b8e186"
            ],
            [
             0.8,
             "#7fbc41"
            ],
            [
             0.9,
             "#4d9221"
            ],
            [
             1,
             "#276419"
            ]
           ],
           "sequential": [
            [
             0,
             "#0d0887"
            ],
            [
             0.1111111111111111,
             "#46039f"
            ],
            [
             0.2222222222222222,
             "#7201a8"
            ],
            [
             0.3333333333333333,
             "#9c179e"
            ],
            [
             0.4444444444444444,
             "#bd3786"
            ],
            [
             0.5555555555555556,
             "#d8576b"
            ],
            [
             0.6666666666666666,
             "#ed7953"
            ],
            [
             0.7777777777777778,
             "#fb9f3a"
            ],
            [
             0.8888888888888888,
             "#fdca26"
            ],
            [
             1,
             "#f0f921"
            ]
           ],
           "sequentialminus": [
            [
             0,
             "#0d0887"
            ],
            [
             0.1111111111111111,
             "#46039f"
            ],
            [
             0.2222222222222222,
             "#7201a8"
            ],
            [
             0.3333333333333333,
             "#9c179e"
            ],
            [
             0.4444444444444444,
             "#bd3786"
            ],
            [
             0.5555555555555556,
             "#d8576b"
            ],
            [
             0.6666666666666666,
             "#ed7953"
            ],
            [
             0.7777777777777778,
             "#fb9f3a"
            ],
            [
             0.8888888888888888,
             "#fdca26"
            ],
            [
             1,
             "#f0f921"
            ]
           ]
          },
          "colorway": [
           "#636efa",
           "#EF553B",
           "#00cc96",
           "#ab63fa",
           "#FFA15A",
           "#19d3f3",
           "#FF6692",
           "#B6E880",
           "#FF97FF",
           "#FECB52"
          ],
          "font": {
           "color": "#2a3f5f"
          },
          "geo": {
           "bgcolor": "white",
           "lakecolor": "white",
           "landcolor": "#E5ECF6",
           "showlakes": true,
           "showland": true,
           "subunitcolor": "white"
          },
          "hoverlabel": {
           "align": "left"
          },
          "hovermode": "closest",
          "mapbox": {
           "style": "light"
          },
          "paper_bgcolor": "white",
          "plot_bgcolor": "#E5ECF6",
          "polar": {
           "angularaxis": {
            "gridcolor": "white",
            "linecolor": "white",
            "ticks": ""
           },
           "bgcolor": "#E5ECF6",
           "radialaxis": {
            "gridcolor": "white",
            "linecolor": "white",
            "ticks": ""
           }
          },
          "scene": {
           "xaxis": {
            "backgroundcolor": "#E5ECF6",
            "gridcolor": "white",
            "gridwidth": 2,
            "linecolor": "white",
            "showbackground": true,
            "ticks": "",
            "zerolinecolor": "white"
           },
           "yaxis": {
            "backgroundcolor": "#E5ECF6",
            "gridcolor": "white",
            "gridwidth": 2,
            "linecolor": "white",
            "showbackground": true,
            "ticks": "",
            "zerolinecolor": "white"
           },
           "zaxis": {
            "backgroundcolor": "#E5ECF6",
            "gridcolor": "white",
            "gridwidth": 2,
            "linecolor": "white",
            "showbackground": true,
            "ticks": "",
            "zerolinecolor": "white"
           }
          },
          "shapedefaults": {
           "line": {
            "color": "#2a3f5f"
           }
          },
          "ternary": {
           "aaxis": {
            "gridcolor": "white",
            "linecolor": "white",
            "ticks": ""
           },
           "baxis": {
            "gridcolor": "white",
            "linecolor": "white",
            "ticks": ""
           },
           "bgcolor": "#E5ECF6",
           "caxis": {
            "gridcolor": "white",
            "linecolor": "white",
            "ticks": ""
           }
          },
          "title": {
           "x": 0.05
          },
          "xaxis": {
           "automargin": true,
           "gridcolor": "white",
           "linecolor": "white",
           "ticks": "",
           "title": {
            "standoff": 15
           },
           "zerolinecolor": "white",
           "zerolinewidth": 2
          },
          "yaxis": {
           "automargin": true,
           "gridcolor": "white",
           "linecolor": "white",
           "ticks": "",
           "title": {
            "standoff": 15
           },
           "zerolinecolor": "white",
           "zerolinewidth": 2
          }
         }
        },
        "title": {
         "text": "Ordonnancement"
        },
        "xaxis": {
         "autorange": true,
         "range": [
          "2024-05-29 23:23:49.3545",
          "2024-07-07 00:36:10.6455"
         ],
         "rangeselector": {
          "buttons": [
           {
            "count": 7,
            "label": "1w",
            "step": "day",
            "stepmode": "backward"
           },
           {
            "count": 1,
            "label": "1m",
            "step": "month",
            "stepmode": "backward"
           },
           {
            "count": 6,
            "label": "6m",
            "step": "month",
            "stepmode": "backward"
           },
           {
            "count": 1,
            "label": "YTD",
            "step": "year",
            "stepmode": "todate"
           },
           {
            "count": 1,
            "label": "1y",
            "step": "year",
            "stepmode": "backward"
           },
           {
            "step": "all"
           }
          ]
         },
         "showgrid": true,
         "tickvals": [],
         "type": "date",
         "zeroline": false
        },
        "yaxis": {
         "autorange": false,
         "range": [
          -1,
          3
         ],
         "showgrid": true,
         "ticktext": [
          "Machine 2",
          "Machine 1"
         ],
         "tickvals": [
          0,
          1
         ],
         "type": "linear",
         "zeroline": false
        }
       }
      },
      "image/png": "[encoded data removed]",
      "text/html": [
       "<div>                            <div id=\"0c592293-c140-4605-a703-4afe1cb187ef\" class=\"plotly-graph-div\" style=\"height:600px; width:100%;\"></div>            <script type=\"text/javascript\">                require([\"plotly\"], function(Plotly) {                    window.PLOTLYENV=window.PLOTLYENV || {};                                    if (document.getElementById(\"0c592293-c140-4605-a703-4afe1cb187ef\")) {                    Plotly.newPlot(                        \"0c592293-c140-4605-a703-4afe1cb187ef\",                        [{\"fill\":\"toself\",\"fillcolor\":\"rgb(153, 255, 153)\",\"hoverinfo\":\"name\",\"legendgroup\":\"rgb(153, 255, 153)\",\"mode\":\"none\",\"name\":\"J2\",\"x\":[\"2024-06-01\",\"2024-06-06\",\"2024-06-06\",\"2024-06-01\",\"2024-06-01\",\"2024-06-18\",\"2024-06-25\",\"2024-06-25\",\"2024-06-18\"],\"y\":[-0.2,-0.2,0.2,0.2,null,-0.2,-0.2,0.2,0.2],\"type\":\"scatter\"},{\"fill\":\"toself\",\"fillcolor\":\"rgb(255, 153, 153)\",\"hoverinfo\":\"name\",\"legendgroup\":\"rgb(255, 153, 153)\",\"mode\":\"none\",\"name\":\"J1\",\"x\":[\"2024-06-01\",\"2024-06-05\",\"2024-06-05\",\"2024-06-01\",\"2024-06-01\",\"2024-06-07\",\"2024-06-12\",\"2024-06-12\",\"2024-06-07\",\"2024-06-07\",\"2024-06-13\",\"2024-06-18\",\"2024-06-18\",\"2024-06-13\",\"2024-06-13\",\"2024-06-26\",\"2024-06-30\",\"2024-06-30\",\"2024-06-26\"],\"y\":[0.8,0.8,1.2,1.2,null,-0.2,-0.2,0.2,0.2,null,0.8,0.8,1.2,1.2,null,-0.2,-0.2,0.2,0.2],\"type\":\"scatter\"},{\"fill\":\"toself\",\"fillcolor\":\"rgb(47, 79, 79)\",\"hoverinfo\":\"name\",\"legendgroup\":\"rgb(47, 79, 79)\",\"mode\":\"none\",\"name\":\"M\",\"x\":[\"2024-06-19\",\"2024-06-22\",\"2024-06-22\",\"2024-06-19\",\"2024-06-19\",\"2024-06-13\",\"2024-06-15\",\"2024-06-15\",\"2024-06-13\",\"2024-06-13\",\"2024-06-13\",\"2024-06-17\",\"2024-06-17\",\"2024-06-13\",\"2024-06-13\",\"2024-06-13\",\"2024-06-16\",\"2024-06-16\",\"2024-06-13\",\"2024-06-13\",\"2024-07-01\",\"2024-07-03\",\"2024-07-03\",\"2024-07-01\",\"2024-07-01\",\"2024-07-01\",\"2024-07-05\",\"2024-07-05\",\"2024-07-01\",\"2024-07-01\",\"2024-07-01\",\"2024-07-04\",\"2024-07-04\",\"2024-07-01\"],\"y\":[0.8,0.8,1.2,1.2,null,-0.2,-0.2,0.2,0.2,null,-0.2,-0.2,0.2,0.2,null,-0.2,-0.2,0.2,0.2,null,-0.2,-0.2,0.2,0.2,null,-0.2,-0.2,0.2,0.2,null,-0.2,-0.2,0.2,0.2],\"type\":\"scatter\"},{\"legendgroup\":\"rgb(153, 255, 153)\",\"marker\":{\"color\":\"rgb(153, 255, 153)\",\"opacity\":0,\"size\":1},\"mode\":\"markers\",\"name\":\"\",\"showlegend\":false,\"text\":[null,null,null,null],\"x\":[\"2024-06-01\",\"2024-06-06\",\"2024-06-18\",\"2024-06-25\"],\"y\":[0,0,0,0],\"type\":\"scatter\"},{\"legendgroup\":\"rgb(255, 153, 153)\",\"marker\":{\"color\":\"rgb(255, 153, 153)\",\"opacity\":0,\"size\":1},\"mode\":\"markers\",\"name\":\"\",\"showlegend\":false,\"text\":[null,null,null,null,null,null,null,null],\"x\":[\"2024-06-01\",\"2024-06-05\",\"2024-06-07\",\"2024-06-12\",\"2024-06-13\",\"2024-06-18\",\"2024-06-26\",\"2024-06-30\"],\"y\":[1,1,0,0,1,1,0,0],\"type\":\"scatter\"},{\"legendgroup\":\"rgb(47, 79, 79)\",\"marker\":{\"color\":\"rgb(47, 79, 79)\",\"opacity\":0,\"size\":1},\"mode\":\"markers\",\"name\":\"\",\"showlegend\":false,\"text\":[null,null,null,null,null,null,null,null,null,null,null,null,null,null],\"x\":[\"2024-06-19\",\"2024-06-22\",\"2024-06-13\",\"2024-06-15\",\"2024-06-13\",\"2024-06-17\",\"2024-06-13\",\"2024-06-16\",\"2024-07-01\",\"2024-07-03\",\"2024-07-01\",\"2024-07-05\",\"2024-07-01\",\"2024-07-04\"],\"y\":[1,1,0,0,0,0,0,0,0,0,0,0,0,0],\"type\":\"scatter\"}],                        {\"height\":600,\"hovermode\":\"closest\",\"showlegend\":true,\"title\":{\"text\":\"Ordonnancement\"},\"xaxis\":{\"rangeselector\":{\"buttons\":[{\"count\":7,\"label\":\"1w\",\"step\":\"day\",\"stepmode\":\"backward\"},{\"count\":1,\"label\":\"1m\",\"step\":\"month\",\"stepmode\":\"backward\"},{\"count\":6,\"label\":\"6m\",\"step\":\"month\",\"stepmode\":\"backward\"},{\"count\":1,\"label\":\"YTD\",\"step\":\"year\",\"stepmode\":\"todate\"},{\"count\":1,\"label\":\"1y\",\"step\":\"year\",\"stepmode\":\"backward\"},{\"step\":\"all\"}]},\"showgrid\":true,\"type\":\"date\",\"zeroline\":false,\"tickvals\":[]},\"yaxis\":{\"autorange\":false,\"range\":[-1,3],\"showgrid\":true,\"ticktext\":[\"Machine 2\",\"Machine 1\"],\"tickvals\":[0,1],\"zeroline\":false},\"template\":{\"data\":{\"histogram2dcontour\":[{\"type\":\"histogram2dcontour\",\"colorbar\":{\"outlinewidth\":0,\"ticks\":\"\"},\"colorscale\":[[0.0,\"#0d0887\"],[0.1111111111111111,\"#46039f\"],[0.2222222222222222,\"#7201a8\"],[0.3333333333333333,\"#9c179e\"],[0.4444444444444444,\"#bd3786\"],[0.5555555555555556,\"#d8576b\"],[0.6666666666666666,\"#ed7953\"],[0.7777777777777778,\"#fb9f3a\"],[0.8888888888888888,\"#fdca26\"],[1.0,\"#f0f921\"]]}],\"choropleth\":[{\"type\":\"choropleth\",\"colorbar\":{\"outlinewidth\":0,\"ticks\":\"\"}}],\"histogram2d\":[{\"type\":\"histogram2d\",\"colorbar\":{\"outlinewidth\":0,\"ticks\":\"\"},\"colorscale\":[[0.0,\"#0d0887\"],[0.1111111111111111,\"#46039f\"],[0.2222222222222222,\"#7201a8\"],[0.3333333333333333,\"#9c179e\"],[0.4444444444444444,\"#bd3786\"],[0.5555555555555556,\"#d8576b\"],[0.6666666666666666,\"#ed7953\"],[0.7777777777777778,\"#fb9f3a\"],[0.8888888888888888,\"#fdca26\"],[1.0,\"#f0f921\"]]}],\"heatmap\":[{\"type\":\"heatmap\",\"colorbar\":{\"outlinewidth\":0,\"ticks\":\"\"},\"colorscale\":[[0.0,\"#0d0887\"],[0.1111111111111111,\"#46039f\"],[0.2222222222222222,\"#7201a8\"],[0.3333333333333333,\"#9c179e\"],[0.4444444444444444,\"#bd3786\"],[0.5555555555555556,\"#d8576b\"],[0.6666666666666666,\"#ed7953\"],[0.7777777777777778,\"#fb9f3a\"],[0.8888888888888888,\"#fdca26\"],[1.0,\"#f0f921\"]]}],\"heatmapgl\":[{\"type\":\"heatmapgl\",\"colorbar\":{\"outlinewidth\":0,\"ticks\":\"\"},\"colorscale\":[[0.0,\"#0d0887\"],[0.1111111111111111,\"#46039f\"],[0.2222222222222222,\"#7201a8\"],[0.3333333333333333,\"#9c179e\"],[0.4444444444444444,\"#bd3786\"],[0.5555555555555556,\"#d8576b\"],[0.6666666666666666,\"#ed7953\"],[0.7777777777777778,\"#fb9f3a\"],[0.8888888888888888,\"#fdca26\"],[1.0,\"#f0f921\"]]}],\"contourcarpet\":[{\"type\":\"contourcarpet\",\"colorbar\":{\"outlinewidth\":0,\"ticks\":\"\"}}],\"contour\":[{\"type\":\"contour\",\"colorbar\":{\"outlinewidth\":0,\"ticks\":\"\"},\"colorscale\":[[0.0,\"#0d0887\"],[0.1111111111111111,\"#46039f\"],[0.2222222222222222,\"#7201a8\"],[0.3333333333333333,\"#9c179e\"],[0.4444444444444444,\"#bd3786\"],[0.5555555555555556,\"#d8576b\"],[0.6666666666666666,\"#ed7953\"],[0.7777777777777778,\"#fb9f3a\"],[0.8888888888888888,\"#fdca26\"],[1.0,\"#f0f921\"]]}],\"surface\":[{\"type\":\"surface\",\"colorbar\":{\"outlinewidth\":0,\"ticks\":\"\"},\"colorscale\":[[0.0,\"#0d0887\"],[0.1111111111111111,\"#46039f\"],[0.2222222222222222,\"#7201a8\"],[0.3333333333333333,\"#9c179e\"],[0.4444444444444444,\"#bd3786\"],[0.5555555555555556,\"#d8576b\"],[0.6666666666666666,\"#ed7953\"],[0.7777777777777778,\"#fb9f3a\"],[0.8888888888888888,\"#fdca26\"],[1.0,\"#f0f921\"]]}],\"mesh3d\":[{\"type\":\"mesh3d\",\"colorbar\":{\"outlinewidth\":0,\"ticks\":\"\"}}],\"scatter\":[{\"fillpattern\":{\"fillmode\":\"overlay\",\"size\":10,\"solidity\":0.2},\"type\":\"scatter\"}],\"parcoords\":[{\"type\":\"parcoords\",\"line\":{\"colorbar\":{\"outlinewidth\":0,\"ticks\":\"\"}}}],\"scatterpolargl\":[{\"type\":\"scatterpolargl\",\"marker\":{\"colorbar\":{\"outlinewidth\":0,\"ticks\":\"\"}}}],\"bar\":[{\"error_x\":{\"color\":\"#2a3f5f\"},\"error_y\":{\"color\":\"#2a3f5f\"},\"marker\":{\"line\":{\"color\":\"#E5ECF6\",\"width\":0.5},\"pattern\":{\"fillmode\":\"overlay\",\"size\":10,\"solidity\":0.2}},\"type\":\"bar\"}],\"scattergeo\":[{\"type\":\"scattergeo\",\"marker\":{\"colorbar\":{\"outlinewidth\":0,\"ticks\":\"\"}}}],\"scatterpolar\":[{\"type\":\"scatterpolar\",\"marker\":{\"colorbar\":{\"outlinewidth\":0,\"ticks\":\"\"}}}],\"histogram\":[{\"marker\":{\"pattern\":{\"fillmode\":\"overlay\",\"size\":10,\"solidity\":0.2}},\"type\":\"histogram\"}],\"scattergl\":[{\"type\":\"scattergl\",\"marker\":{\"colorbar\":{\"outlinewidth\":0,\"ticks\":\"\"}}}],\"scatter3d\":[{\"type\":\"scatter3d\",\"line\":{\"colorbar\":{\"outlinewidth\":0,\"ticks\":\"\"}},\"marker\":{\"colorbar\":{\"outlinewidth\":0,\"ticks\":\"\"}}}],\"scattermapbox\":[{\"type\":\"scattermapbox\",\"marker\":{\"colorbar\":{\"outlinewidth\":0,\"ticks\":\"\"}}}],\"scatterternary\":[{\"type\":\"scatterternary\",\"marker\":{\"colorbar\":{\"outlinewidth\":0,\"ticks\":\"\"}}}],\"scattercarpet\":[{\"type\":\"scattercarpet\",\"marker\":{\"colorbar\":{\"outlinewidth\":0,\"ticks\":\"\"}}}],\"carpet\":[{\"aaxis\":{\"endlinecolor\":\"#2a3f5f\",\"gridcolor\":\"white\",\"linecolor\":\"white\",\"minorgridcolor\":\"white\",\"startlinecolor\":\"#2a3f5f\"},\"baxis\":{\"endlinecolor\":\"#2a3f5f\",\"gridcolor\":\"white\",\"linecolor\":\"white\",\"minorgridcolor\":\"white\",\"startlinecolor\":\"#2a3f5f\"},\"type\":\"carpet\"}],\"table\":[{\"cells\":{\"fill\":{\"color\":\"#EBF0F8\"},\"line\":{\"color\":\"white\"}},\"header\":{\"fill\":{\"color\":\"#C8D4E3\"},\"line\":{\"color\":\"white\"}},\"type\":\"table\"}],\"barpolar\":[{\"marker\":{\"line\":{\"color\":\"#E5ECF6\",\"width\":0.5},\"pattern\":{\"fillmode\":\"overlay\",\"size\":10,\"solidity\":0.2}},\"type\":\"barpolar\"}],\"pie\":[{\"automargin\":true,\"type\":\"pie\"}]},\"layout\":{\"autotypenumbers\":\"strict\",\"colorway\":[\"#636efa\",\"#EF553B\",\"#00cc96\",\"#ab63fa\",\"#FFA15A\",\"#19d3f3\",\"#FF6692\",\"#B6E880\",\"#FF97FF\",\"#FECB52\"],\"font\":{\"color\":\"#2a3f5f\"},\"hovermode\":\"closest\",\"hoverlabel\":{\"align\":\"left\"},\"paper_bgcolor\":\"white\",\"plot_bgcolor\":\"#E5ECF6\",\"polar\":{\"bgcolor\":\"#E5ECF6\",\"angularaxis\":{\"gridcolor\":\"white\",\"linecolor\":\"white\",\"ticks\":\"\"},\"radialaxis\":{\"gridcolor\":\"white\",\"linecolor\":\"white\",\"ticks\":\"\"}},\"ternary\":{\"bgcolor\":\"#E5ECF6\",\"aaxis\":{\"gridcolor\":\"white\",\"linecolor\":\"white\",\"ticks\":\"\"},\"baxis\":{\"gridcolor\":\"white\",\"linecolor\":\"white\",\"ticks\":\"\"},\"caxis\":{\"gridcolor\":\"white\",\"linecolor\":\"white\",\"ticks\":\"\"}},\"coloraxis\":{\"colorbar\":{\"outlinewidth\":0,\"ticks\":\"\"}},\"colorscale\":{\"sequential\":[[0.0,\"#0d0887\"],[0.1111111111111111,\"#46039f\"],[0.2222222222222222,\"#7201a8\"],[0.3333333333333333,\"#9c179e\"],[0.4444444444444444,\"#bd3786\"],[0.5555555555555556,\"#d8576b\"],[0.6666666666666666,\"#ed7953\"],[0.7777777777777778,\"#fb9f3a\"],[0.8888888888888888,\"#fdca26\"],[1.0,\"#f0f921\"]],\"sequentialminus\":[[0.0,\"#0d0887\"],[0.1111111111111111,\"#46039f\"],[0.2222222222222222,\"#7201a8\"],[0.3333333333333333,\"#9c179e\"],[0.4444444444444444,\"#bd3786\"],[0.5555555555555556,\"#d8576b\"],[0.6666666666666666,\"#ed7953\"],[0.7777777777777778,\"#fb9f3a\"],[0.8888888888888888,\"#fdca26\"],[1.0,\"#f0f921\"]],\"diverging\":[[0,\"#8e0152\"],[0.1,\"#c51b7d\"],[0.2,\"#de77ae\"],[0.3,\"#f1b6da\"],[0.4,\"#fde0ef\"],[0.5,\"#f7f7f7\"],[0.6,\"#e6f5d0\"],[0.7,\"#b8e186\"],[0.8,\"#7fbc41\"],[0.9,\"#4d9221\"],[1,\"#276419\"]]},\"xaxis\":{\"gridcolor\":\"white\",\"linecolor\":\"white\",\"ticks\":\"\",\"title\":{\"standoff\":15},\"zerolinecolor\":\"white\",\"automargin\":true,\"zerolinewidth\":2},\"yaxis\":{\"gridcolor\":\"white\",\"linecolor\":\"white\",\"ticks\":\"\",\"title\":{\"standoff\":15},\"zerolinecolor\":\"white\",\"automargin\":true,\"zerolinewidth\":2},\"scene\":{\"xaxis\":{\"backgroundcolor\":\"#E5ECF6\",\"gridcolor\":\"white\",\"linecolor\":\"white\",\"showbackground\":true,\"ticks\":\"\",\"zerolinecolor\":\"white\",\"gridwidth\":2},\"yaxis\":{\"backgroundcolor\":\"#E5ECF6\",\"gridcolor\":\"white\",\"linecolor\":\"white\",\"showbackground\":true,\"ticks\":\"\",\"zerolinecolor\":\"white\",\"gridwidth\":2},\"zaxis\":{\"backgroundcolor\":\"#E5ECF6\",\"gridcolor\":\"white\",\"linecolor\":\"white\",\"showbackground\":true,\"ticks\":\"\",\"zerolinecolor\":\"white\",\"gridwidth\":2}},\"shapedefaults\":{\"line\":{\"color\":\"#2a3f5f\"}},\"annotationdefaults\":{\"arrowcolor\":\"#2a3f5f\",\"arrowhead\":0,\"arrowwidth\":1},\"geo\":{\"bgcolor\":\"white\",\"landcolor\":\"#E5ECF6\",\"subunitcolor\":\"white\",\"showland\":true,\"showlakes\":true,\"lakecolor\":\"white\"},\"title\":{\"x\":0.05},\"mapbox\":{\"style\":\"light\"}}}},                        {\"responsive\": true}                    ).then(function(){\n",
       "                            \n",
       "var gd = document.getElementById('0c592293-c140-4605-a703-4afe1cb187ef');\n",
       "var x = new MutationObserver(function (mutations, observer) {{\n",
       "        var display = window.getComputedStyle(gd).display;\n",
       "        if (!display || display === 'none') {{\n",
       "            console.log([gd, 'removed!']);\n",
       "            Plotly.purge(gd);\n",
       "            observer.disconnect();\n",
       "        }}\n",
       "}});\n",
       "\n",
       "// Listen for the removal of the full notebook cells\n",
       "var notebookContainer = gd.closest('#notebook-container');\n",
       "if (notebookContainer) {{\n",
       "    x.observe(notebookContainer, {childList: true});\n",
       "}}\n",
       "\n",
       "// Listen for the clearing of the current output cell\n",
       "var outputEl = gd.closest('.output');\n",
       "if (outputEl) {{\n",
       "    x.observe(outputEl, {childList: true});\n",
       "}}\n",
       "\n",
       "                        })                };                });            </script>        </div>"
      ]
     },
     "metadata": {},
     "output_type": "display_data"
    }
   ],
   "source": [
    "creerDiagrammeGantt(solution, tempsDebut, dureeOperations, maintenances, couleurMachines)"
   ]
  },
  {
   "cell_type": "code",
   "execution_count": null,
   "id": "b26e8a31-a74b-4bdf-84bb-0deb2857d84c",
   "metadata": {},
   "outputs": [],
   "source": []
  }
 ],
 "metadata": {
  "kernelspec": {
   "display_name": "Python 3 (ipykernel)",
   "language": "python",
   "name": "python3"
  },
  "language_info": {
   "codemirror_mode": {
    "name": "ipython",
    "version": 3
   },
   "file_extension": ".py",
   "mimetype": "text/x-python",
   "name": "python",
   "nbconvert_exporter": "python",
   "pygments_lexer": "ipython3",
   "version": "3.11.7"
  }
 },
 "nbformat": 4,
 "nbformat_minor": 5
}
