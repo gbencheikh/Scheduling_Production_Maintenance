{
 "cells": [
  {
   "cell_type": "markdown",
   "id": "cfd819ab-22f0-46ba-90ad-7527f73dc92f",
   "metadata": {},
   "source": [
    "# Model\n",
    "Ce programme Résout le FJSSP avec optimisation des tâches de maintenance tout en respectant des contraintes de qualité minimale"
   ]
  },
  {
   "cell_type": "code",
   "execution_count": 1,
   "id": "37578b3a-9e2c-4266-8904-18b2502a052e",
   "metadata": {},
   "outputs": [
    {
     "name": "stderr",
     "output_type": "stream",
     "text": [
      "C:\\Users\\useer\\Desktop\\STAGE CESI\\Réalisations\\Versions\\my_module.py:3: UserWarning: \n",
      "The dash_html_components package is deprecated. Please replace\n",
      "`import dash_html_components as html` with `from dash import html`\n",
      "  import dash_html_components as html\n",
      "C:\\Users\\useer\\Desktop\\STAGE CESI\\Réalisations\\Versions\\my_module.py:4: UserWarning: \n",
      "The dash_core_components package is deprecated. Please replace\n",
      "`import dash_core_components as dcc` with `from dash import dcc`\n",
      "  import dash_core_components as dcc\n"
     ]
    }
   ],
   "source": [
    "from my_module import create_gantt_chart, parse_operations_file, parse_degradations_file\n",
    "from mip import Model, xsum, maximize, minimize, BINARY\n",
    "import numpy as np\n",
    "import matplotlib.pyplot as plt\n",
    "import json"
   ]
  },
  {
   "cell_type": "code",
   "execution_count": 2,
   "id": "956d6da9-cbdd-4901-89de-59332674f350",
   "metadata": {},
   "outputs": [],
   "source": [
    "model = Model()"
   ]
  },
  {
   "cell_type": "markdown",
   "id": "5844263e-b680-42a0-9c32-aca003ee11e7",
   "metadata": {},
   "source": [
    "# Extraction des données et définition des constants"
   ]
  },
  {
   "cell_type": "code",
   "execution_count": 3,
   "id": "4c13f4cc-08c2-47fa-a654-f93d0ed1e04d",
   "metadata": {},
   "outputs": [],
   "source": [
    "inf= 999999\n",
    "instancename = 'sfjs07'\n",
    "n_max = 3\n",
    "num_instance = 'instance02'\n",
    "filename = f\"../TESTS/{instancename}/{instancename}.txt\"\n",
    "nbJobs, nbMachines, nbOperationsParJob, dureeOperations = parse_operations_file(filename)\n",
    "filename = f\"../TESTS/{instancename}/{num_instance}/instance.txt\"\n",
    "_, _, nbComposants, seuils_degradation, dureeMaintenances, degradations = parse_degradations_file(filename)\n",
    "\n",
    "alpha_kl = [[.01 for l in range(nbComposants[k])] for k in range(nbMachines)]\n",
    "AQL = 0.05\n",
    "Qjmin = [0.8 for j in range(nbJobs)]\n",
    "couleurMachines = {\n",
    "    'J1': '#ff9999',   # Light Red\n",
    "    'J2': '#99ff99',   # Light Green\n",
    "    'J3': '#9999ff',   # Light Blue\n",
    "    'J4': '#61620abf', # Dark Blue\n",
    "    'J5': '#ffcc99',   # Light Orange\n",
    "    'J6': '#66c2a5',   # Teal\n",
    "    'J7': '#fc8d62',   # Salmon\n",
    "    'J8': '#8da0cb',   # Lavender\n",
    "    'J9': '#e78ac3',   # Pink\n",
    "    'J10': '#a6d854',  # Lime Green\n",
    "    'J11': '#ffd92f',  # Yellow\n",
    "    'J12': '#e5c494',  # Beige\n",
    "    'J13': '#b3b3b3',  # Grey\n",
    "    'J14': '#1f78b4',  # Bright Blue\n",
    "    'J15': '#33a02c',  # Bright Green\n",
    "    'Maintenances': '#2F4F4F'  # Dark Slate Grey\n",
    "}"
   ]
  },
  {
   "cell_type": "markdown",
   "id": "0312d62b-866b-4254-b34e-dc2df009977e",
   "metadata": {},
   "source": [
    "# Définfition des Variables"
   ]
  },
  {
   "cell_type": "code",
   "execution_count": 4,
   "id": "e467c77d-8786-45cd-8a68-830aee3d8659",
   "metadata": {},
   "outputs": [],
   "source": [
    "maxComposants = max(nbComposants)\n",
    "D_max = t_max = M = 999\n",
    "Cmax = model.add_var()\n",
    "Mmax = model.add_var()\n",
    "x_ijkn = [[[[model.add_var(var_type=BINARY) for i in range(nbOperationsParJob[j])] for j in range(nbJobs)] for k in range(nbMachines)] for n in range(n_max)]\n",
    "y_kln = [[[model.add_var(var_type=BINARY) for l in range(nbComposants[k])] for k in range(nbMachines)] for n in range(n_max)]\n",
    "v_kn= [[model.add_var() for k in range(nbMachines)] for n in range(n_max)]\n",
    "w = [[[[[[model.add_var(var_type=BINARY) for i in range(nbOperationsParJob[j])] for j in range(nbJobs)] for i_ in range(nbOperationsParJob[j_])] for j_ in range(nbJobs)] for m in range(nbMachines)] for n in range(n_max)]\n",
    "z = [[[[[[[model.add_var(var_type=BINARY) for i in range(nbOperationsParJob[j])] for j in range(nbJobs)] for i_ in range(nbOperationsParJob[j_])] for j_ in range(nbJobs)] for l in range(maxComposants)] for k in range(nbMachines)] for n in range(n_max)]\n",
    "d_kln = [[[model.add_var() for l in range(nbComposants[k])] for k in range(nbMachines)] for n in range(n_max)]\n",
    "prod_y_d = [[[model.add_var() for l in range(nbComposants[k])] for k in range(nbMachines)] for n in range(n_max)]\n",
    "prod_w_t = [[[[[[model.add_var() for i in range(nbOperationsParJob[j])] for j in range(nbJobs)] for i_ in range(nbOperationsParJob[j_])] for j_ in range(nbJobs)] for m in range(nbMachines)] for n in range(n_max)]\n",
    "D_kln = [[[model.add_var() for l in range(nbComposants[k])] for k in range(nbMachines)] for n in range(n_max)]\n",
    "t_ij = [[model.add_var() for i in range(nbOperationsParJob[j])] for j in range(nbJobs)]\n",
    "Qinitj = [1.0 for j in range(nbJobs)]  # Exemple de taux de qualité initiale\n",
    "Qjmin = [0.8 for j in range(nbJobs)]   # Exemple de taux de qualité minimale acceptable\n",
    "alpha_kl = [[.01 for l in range(nbComposants[k])] for k in range(nbMachines)]  # Exemple de coefficients de détérioration de la qualité   \n",
    "prod_x_D = [[[[[model.add_var() for i in range(nbOperationsParJob[j])] for j in range(nbJobs)] for l in range(nbComposants[k])] for k in range(nbMachines)] for n in range(n_max)]\n",
    "Qj = [model.add_var()  for j in range(nbJobs)]\n",
    "prod_x_y = [[[[[model.add_var(var_type=BINARY) for i in range(nbOperationsParJob[j])] for j in range(nbJobs)] for l in range(nbComposants[k])] for k in range(nbMachines)] for n in range(n_max)]"
   ]
  },
  {
   "cell_type": "markdown",
   "id": "2d9064ba-49ab-4c76-a94c-18ce010d1e2c",
   "metadata": {},
   "source": [
    "# Calcul de la Dégradation"
   ]
  },
  {
   "cell_type": "code",
   "execution_count": 5,
   "id": "ecd59697-d7ef-4656-b6f1-96c076b9d408",
   "metadata": {},
   "outputs": [],
   "source": [
    "for n in range(n_max):\n",
    "    for k in range(nbMachines):\n",
    "        for l in range(nbComposants[k]):\n",
    "             model += d_kln[n][k][l] == xsum(x_ijkn[n][k][j][i] * degradations[k][l][j][i]\n",
    "                            for j in range(nbJobs)\n",
    "                            for i in range(nbOperationsParJob[j]))\n",
    "            \n",
    "for k in range(nbMachines):\n",
    "        for l in range(nbComposants[k]):\n",
    "            model += D_kln[0][k][l] ==  d_kln[0][k][l]\n",
    "for n in range(n_max-1):\n",
    "    for k in range(nbMachines):\n",
    "        for l in range(nbComposants[k]):\n",
    "            model += D_kln[n+1][k][l] == D_kln[n][k][l] - prod_y_d[n][k][l] + d_kln[n+1][k][l]\n",
    "\n",
    "## prod_y_d[n-1][k][l] = y_kln[n-1][k][l]*D_kln[n-1][k][l]\n",
    "for n in range(n_max):\n",
    "    for k in range(nbMachines):\n",
    "        for l in range(nbComposants[k]):\n",
    "            model += prod_y_d[n][k][l] >= 0\n",
    "            model += prod_y_d[n][k][l] - y_kln[n][k][l] * D_max <= 0\n",
    "            model += prod_y_d[n][k][l] - D_kln[n][k][l] <= 0\n",
    "            model += prod_y_d[n][k][l] - D_kln[n][k][l] + D_max - y_kln[n][k][l]*D_max >= 0"
   ]
  },
  {
   "cell_type": "markdown",
   "id": "5821fcc5-8091-4849-af4b-a6f831fde0e9",
   "metadata": {},
   "source": [
    "# Calcul de la Détérioration De La Qualité"
   ]
  },
  {
   "cell_type": "code",
   "execution_count": 6,
   "id": "8d434027-d8e9-4d1b-8201-db73a7aa8392",
   "metadata": {},
   "outputs": [],
   "source": [
    "for n in range(n_max) :\n",
    "    if n != 0:\n",
    "        for k in range(nbMachines) :\n",
    "            for l in range(nbComposants[k]) :\n",
    "                for j in range(nbJobs) :\n",
    "                    for i in range(nbOperationsParJob[j]) :\n",
    "                        model += prod_x_y[n][k][l][j][i] - x_ijkn[n][k][j][i] + y_kln[n-1][k][l] >= 0\n",
    "                        model += prod_x_y[n][k][l][j][i] - (1/2)*x_ijkn[n][k][j][i] + (1/2)*y_kln[n-1][k][l] <= (1/2)\n",
    "for n in range(n_max):\n",
    "    if n != 0:\n",
    "        for k in range(nbMachines):\n",
    "            for l in range(nbComposants[k]):\n",
    "                for j in range(nbJobs):\n",
    "                    for i in range(nbOperationsParJob[j]):\n",
    "                        model += prod_x_D[n][k][l][j][i] >= 0\n",
    "                        model += prod_x_D[n][k][l][j][i] - D_max * prod_x_y[n][k][l][j][i] <= 0\n",
    "                        model += prod_x_D[n][k][l][j][i] - D_kln[n-1][k][l] <= 0\n",
    "                        model += prod_x_D[n][k][l][j][i] - D_kln[n-1][k][l] + D_max - prod_x_y[n][k][l][j][i]*D_max >= 0\n",
    "    else:\n",
    "        for k in range(nbMachines):\n",
    "            for l in range(nbComposants[k]):\n",
    "                for j in range(nbJobs):\n",
    "                    for i in range(nbOperationsParJob[j]):\n",
    "                        model += prod_x_D[n][k][l][j][i] == 0\n",
    "\n",
    "for j in range(nbJobs):\n",
    "    degradation_sum = xsum(prod_x_D[n][k][l][j][i]  * alpha_kl[k][l] \n",
    "                           for i in range(nbOperationsParJob[j]) \n",
    "                           for n in range(n_max) \n",
    "                           for k in range(nbMachines) \n",
    "                           for l in range(nbComposants[k]))\n",
    "    model += Qj[j] == Qinitj[j] - degradation_sum"
   ]
  },
  {
   "cell_type": "markdown",
   "id": "9f161ddf-58a6-4c71-9e5a-6f043e9e19c2",
   "metadata": {},
   "source": [
    "# Calcul des variables"
   ]
  },
  {
   "cell_type": "code",
   "execution_count": 7,
   "id": "9c0e463f-552e-45e2-81b7-6f92288df5f2",
   "metadata": {},
   "outputs": [],
   "source": [
    "## CALCUL DE LA VARIABLE y\n",
    "for n in range(n_max):\n",
    "    for k in range(nbMachines):\n",
    "        for l in range(nbComposants[k]):\n",
    "            model += M*y_kln[n][k][l] - D_kln[n][k][l] + seuils_degradation[k][l]>= 0\n",
    "\n",
    "## CALCUL DE LA VARIABLE v\n",
    "for n in range(n_max):\n",
    "    for k in range(nbMachines):\n",
    "        model += v_kn[n][k] == xsum(x_ijkn[n][k][j][i] \n",
    "                                    for j in range(nbJobs)\n",
    "                                    for i in range(nbOperationsParJob[j]))\n",
    "\n",
    "## CALCUL DE LA VARIABLE w\n",
    "for n in range(n_max-1):\n",
    "    for k in range(nbMachines):\n",
    "        for j_ in range(nbJobs):\n",
    "            for i_ in range(nbOperationsParJob[j_]):\n",
    "                for j in range(nbJobs):\n",
    "                    for i in range(nbOperationsParJob[j]):\n",
    "                        model += w[n][k][j_][i_][j][i] - x_ijkn[n][k][j][i] - x_ijkn[n+1][k][j_][i_] >= -1\n",
    "                        model += w[n][k][j_][i_][j][i] - 0.5*x_ijkn[n][k][j][i] - 0.5*x_ijkn[n+1][k][j_][i_] <= 0\n",
    "\n",
    "## CALCUL DE LA VARIABLE z\n",
    "for n in range(n_max-1):\n",
    "    for k in range(nbMachines):\n",
    "        for j_ in range(nbJobs):\n",
    "            for i_ in range(nbOperationsParJob[j_]):\n",
    "                for j in range(nbJobs):\n",
    "                    for i in range(nbOperationsParJob[j]):\n",
    "                        for l in range(nbComposants[k]):\n",
    "                            model +=  z[n][k][l][j_][i_][j][i] - w[n][k][j_][i_][j][i] - y_kln[n][k][l] >= -1\n",
    "                            model +=  z[n][k][l][j_][i_][j][i] - 0.5*w[n][k][j_][i_][j][i] - 0.5*y_kln[n][k][l] <= 0\n",
    "\n",
    "## LINEARISATION DE w ET DE tij\n",
    "for n in range(n_max):\n",
    "    for k in range(nbMachines):\n",
    "        for j_ in range(nbJobs):\n",
    "            for i_ in range(nbOperationsParJob[j_]):\n",
    "                for j in range(nbJobs):\n",
    "                    for i in range(nbOperationsParJob[j]):\n",
    "                        model += prod_w_t[n][k][j_][i_][j][i] >= 0\n",
    "                        model += prod_w_t[n][k][j_][i_][j][i] - w[n][k][j_][i_][j][i] * t_max <= 0\n",
    "                        model += prod_w_t[n][k][j_][i_][j][i] - t_ij[j][i] <= 0\n",
    "                        model += prod_w_t[n][k][j_][i_][j][i] - t_ij[j][i] + t_max - w[n][k][j_][i_][j][i]*t_max >= 0"
   ]
  },
  {
   "cell_type": "markdown",
   "id": "60b8a976-6f76-47f1-8ffe-7658bae56aa1",
   "metadata": {},
   "source": [
    "# Contraintes"
   ]
  },
  {
   "cell_type": "code",
   "execution_count": 8,
   "id": "8e1cf39b-e68c-4984-a73c-f8f097ba0782",
   "metadata": {},
   "outputs": [],
   "source": [
    "## CONTRAINTES DE PRECEDENCE DES OPERATIONS\n",
    "for j in range(nbJobs):\n",
    "    for i in range(nbOperationsParJob[j] - 1):\n",
    "            model += t_ij[j][i+1] >= t_ij[j][i] + xsum(x_ijkn[n][k][j][i] * dureeOperations[k][j][i]\n",
    "                                                       for n in range(n_max)\n",
    "                                                       for k in range(nbMachines))\n",
    "\n",
    "## CONTRAINTES DE NON CHEVAUVHEMENT DES OPERATIONS SUR LES MACHINES\n",
    "for l in range(maxComposants):\n",
    "    for j_ in range(nbJobs):\n",
    "        for i_ in range(nbOperationsParJob[j_]):\n",
    "            model += t_ij[j_][i_] >=  xsum(prod_w_t[n][k][j_][i_][j][i] + w[n][k][j_][i_][j][i] * dureeOperations[k][j][i] +  z[n][k][l][j_][i_][j][i] * dureeMaintenances[k][l]\n",
    "                                           for n in range(n_max)\n",
    "                                           for k in range(nbMachines)\n",
    "                                           for j in range(nbJobs)\n",
    "                                           for i in range(nbOperationsParJob[j]))\n",
    "\n",
    "## CONTRAINTES POUR IMPOSER QUE CHAQUE OPERATION SOIT ORDONNANCEE\n",
    "for j in range(nbJobs):\n",
    "    for i in range(nbOperationsParJob[j]):\n",
    "        model += xsum(x_ijkn[n][k][j][i] for n in range(n_max) for k in range(nbMachines)) == 1\n",
    "\n",
    "## CONTRAINTES SUR LES INDCES n DES OPERATIONS DES MACHINES\n",
    "for k in range(nbMachines):\n",
    "    for n in range(n_max-1):\n",
    "        model += v_kn[n][k] >= v_kn[n+1][k]\n",
    "        model += v_kn[n][k] <= 1\n",
    "\n",
    "## CONTRAINTES DE QUALITE\n",
    "for j in range(nbJobs):\n",
    "    model +=  xsum((1-Qj[j]) for j in range(nbJobs))/nbJobs <= AQL"
   ]
  },
  {
   "cell_type": "markdown",
   "id": "fbc46468-9282-49e5-9afe-3da50912b264",
   "metadata": {},
   "source": [
    "# Fonction Objectif"
   ]
  },
  {
   "cell_type": "code",
   "execution_count": 9,
   "id": "b61c75cd-d723-47b9-98f6-b0bf9c1f69c5",
   "metadata": {},
   "outputs": [],
   "source": [
    "for j in range(nbJobs):\n",
    "    model += Cmax >= t_ij[j][nbOperationsParJob[j]-1] + xsum(x_ijkn[n][k][j][nbOperationsParJob[j]-1] * dureeOperations[k][j][nbOperationsParJob[j]-1] \n",
    "                                                             for n in range(n_max) \n",
    "                                                             for k in range(nbMachines))\n",
    "\n",
    "model += Mmax >= xsum(y_kln[n][k][l] for n in range(n_max) \n",
    "                      for k in range(nbMachines) \n",
    "                      for l in range(nbComposants[k]))"
   ]
  },
  {
   "cell_type": "code",
   "execution_count": 10,
   "id": "69c0708d-9cc2-42ec-b0e1-5faae4597301",
   "metadata": {},
   "outputs": [
    {
     "data": {
      "text/plain": [
       "<OptimizationStatus.OPTIMAL: 0>"
      ]
     },
     "execution_count": 10,
     "metadata": {},
     "output_type": "execute_result"
    }
   ],
   "source": [
    "model.objective = minimize(0.9*Cmax + 0.1*Mmax)\n",
    "model.optimize()"
   ]
  },
  {
   "cell_type": "code",
   "execution_count": 11,
   "id": "4c4db57b-458c-404b-939b-927bb9a26d08",
   "metadata": {},
   "outputs": [
    {
     "name": "stdout",
     "output_type": "stream",
     "text": [
      "###############################\n",
      "w[1][2][1][2][3][1] = 1.0\n",
      "w[1][4][1][3][3][2] = 1.0\n",
      "w[2][2][2][2][1][2] = 1.0\n",
      "w[1][5][2][3][3][3] = 1.0\n",
      "###############################\n",
      "x_ijkn[1][1][1][1] = 1.0\n",
      "x_ijkn[1][2][3][1] = 1.0\n",
      "x_ijkn[1][3][2][1] = 1.0\n",
      "x_ijkn[1][4][3][2] = 1.0\n",
      "x_ijkn[1][5][3][3] = 1.0\n",
      "x_ijkn[2][2][1][2] = 1.0\n",
      "x_ijkn[2][4][1][3] = 1.0\n",
      "x_ijkn[2][5][2][3] = 1.0\n",
      "x_ijkn[3][2][2][2] = 1.0\n",
      "###############################\n",
      "y_nkl[1][1][1] = 1.0\n",
      "y_nkl[1][3][1] = 1.0\n",
      "y_nkl[1][4][1] = 1.0\n",
      "y_nkl[1][5][1] = 1.0\n",
      "y_nkl[2][2][1] = 1.0\n",
      "y_nkl[2][5][1] = 1.0\n",
      "###############################\n",
      "dégradations machine 1 :\n",
      "[0, 12.0, 0.0, 0.0]\n",
      "dégradations machine 2 :\n",
      "[0, 9.0, 19.0, 14.0]\n",
      "dégradations machine 3 :\n",
      "[0, 15.0, 0.0, 0.0]\n",
      "dégradations machine 4 :\n",
      "[0, 8.0, 9.0, 9.0]\n",
      "dégradations machine 5 :\n",
      "[0, 15.0, 12.0, 0.0]\n",
      "###############################\n",
      "t_ij[1][1] = 0.0\n",
      "t_ij[1][2] = 117.0\n",
      "t_ij[1][3] = 247.0\n",
      "t_ij[2][1] = 0.0\n",
      "t_ij[2][2] = 252.0\n",
      "t_ij[2][3] = 318.0\n",
      "t_ij[3][1] = 0.0\n",
      "t_ij[3][2] = 62.0\n",
      "t_ij[3][3] = 132.0\n",
      "###############################\n",
      "maintenance machine:1, 'composant':1, 'debut':117.0, 'fin':5\n",
      "maintenance machine:3, 'composant':1, 'debut':150.0, 'fin':5\n",
      "maintenance machine:4, 'composant':1, 'debut':132.0, 'fin':5\n",
      "maintenance machine:5, 'composant':1, 'debut':232.0, 'fin':5\n",
      "maintenance machine:2, 'composant':1, 'debut':247.0, 'fin':5\n",
      "maintenance machine:5, 'composant':1, 'debut':396.0, 'fin':5\n",
      "###############################\n",
      "Qj[1] = 0.91\n",
      "Qj[2] = 1.0\n",
      "Qj[3] = 1.0\n"
     ]
    }
   ],
   "source": [
    "# Affichage des valeurs des variables de décision\n",
    "print('###############################')\n",
    "for j_ in range(nbJobs):\n",
    "    for i_ in range(nbOperationsParJob[j_]):\n",
    "        for n in range(n_max):\n",
    "            for k in range(nbMachines):\n",
    "                for j in range(nbJobs):\n",
    "                    for i in range(nbOperationsParJob[j]):\n",
    "                        if w[n][k][j_][i_][j][i].x != 0:\n",
    "                            print(f\"w[{n+1}][{k+1}][{j_+1}][{i_+1}][{j+1}][{i+1}] = {w[n][k][j_][i_][j][i].x}\")\n",
    "print('###############################')\n",
    "for n in range(n_max):\n",
    "    for k in range(nbMachines):\n",
    "        for j in range(nbJobs):\n",
    "            for i in range(nbOperationsParJob[j]):\n",
    "                if x_ijkn[n][k][j][i].x != 0:\n",
    "                    print(f\"x_ijkn[{n+1}][{k+1}][{j+1}][{i+1}] = {x_ijkn[n][k][j][i].x}\")             \n",
    "print('###############################')\n",
    "for n in range(n_max):\n",
    "    for k in range(nbMachines):\n",
    "        for l in range(nbComposants[k]):\n",
    "            if y_kln[n][k][l].x != 0 :\n",
    "                print(f\"y_nkl[{n+1}][{k+1}][{l+1}] = {y_kln[n][k][l].x}\")\n",
    "print('###############################')\n",
    "deg = [[] for k in range(nbMachines) for l in range(nbComposants[k])]\n",
    "for n in range(n_max):\n",
    "    ind = 0\n",
    "    for k in range(nbMachines):\n",
    "        for l in range(nbComposants[k]):\n",
    "            deg[ind].append(D_kln[n][k][l].x)\n",
    "            ind += 1\n",
    "ind = 0 \n",
    "for k in range(nbMachines):\n",
    "    print(f\"dégradations machine {k+1} :\")\n",
    "    for l in range(nbComposants[k]):\n",
    "        deg[ind].insert(0, 0)\n",
    "        print(deg[ind])\n",
    "        ind += 1\n",
    "print('###############################')\n",
    "for j in range(nbJobs):\n",
    "    for i in range(nbOperationsParJob[j]):\n",
    "        print(f\"t_ij[{j+1}][{i+1}] = {t_ij[j][i].x}\")\n",
    "print('###############################')\n",
    "for n in range(n_max):\n",
    "    for k in range(nbMachines):\n",
    "        for l in range(nbComposants[k]):\n",
    "            if y_kln[n][k][l].x == 1:\n",
    "                debut = 0\n",
    "                for j in range(nbJobs):\n",
    "                    for i in range(nbOperationsParJob[j]):\n",
    "                        if x_ijkn[n][k][j][i].x == 1:\n",
    "                            print(f\"maintenance machine:{k+1}, 'composant':{l+1}, 'debut':{t_ij[j][i].x + dureeOperations[k][j][i]}, 'fin':{debut+dureeMaintenances[k][l]}\")\n",
    "print('###############################')\n",
    "for j in range(nbJobs):\n",
    "    print(f\"Qj[{j+1}] = {Qj[j].x}\")"
   ]
  },
  {
   "cell_type": "code",
   "execution_count": 12,
   "id": "45ab56fe-8b87-4460-8112-d2089ffc70df",
   "metadata": {},
   "outputs": [],
   "source": [
    "def creerDiagrammeGantt(dureeOperations, couleurMachines):\n",
    "    taches = []\n",
    "    for j in range(nbJobs):\n",
    "        for i in range(nbOperationsParJob[j]):\n",
    "            for n in range(n_max):\n",
    "                for k in range(nbMachines):\n",
    "                    if x_ijkn[n][k][j][i].x == 1:\n",
    "                        machine = k+1\n",
    "            start_time = t_ij[j][i].x\n",
    "            finish_time = start_time + dureeOperations[machine-1][j][i]\n",
    "            tache = dict(task=f\"Machine {machine}\",\n",
    "                         start=start_time,\n",
    "                         end=finish_time,\n",
    "                         rsc=f\"J{j+1}\",\n",
    "                         label=f\"O{j+1}:{i+1}\",\n",
    "                         info=f\"J{j+1}\")\n",
    "            taches.append(tache)\n",
    "    for n in range(n_max):\n",
    "        for k in range(nbMachines):\n",
    "            for l in range(nbComposants[k]):\n",
    "                if y_kln[n][k][l].x == 1:\n",
    "                    debut = 0\n",
    "                    for j in range(nbJobs):\n",
    "                        for i in range(nbOperationsParJob[j]):\n",
    "                            if x_ijkn[n][k][j][i].x == 1:\n",
    "                                if n+1 != n_max :\n",
    "                                    if xsum(x_ijkn[n+1][k][j_][i_] for j_ in range(nbJobs) for i_ in range(nbOperationsParJob[j_])).x != 0:\n",
    "                                        machine = k+1\n",
    "                                        composant = l+1\n",
    "                                        start_time = t_ij[j][i].x + dureeOperations[k][j][i]\n",
    "                                        finish_time = start_time + dureeMaintenances[k][l]\n",
    "                                        tache = dict(task=f\"Machine {machine}\", \n",
    "                                                     start=start_time, \n",
    "                                                     end=finish_time, \n",
    "                                                     rsc=f\"Maintenances\",\n",
    "                                                     label=f\"M\", \n",
    "                                                     info=f\"Composant : {composant} (durée={dureeMaintenances[k][l]})\")\n",
    "                                        taches.append(tache)\n",
    "    taches = sorted(taches, key=lambda x: x['task'])\n",
    "    return taches"
   ]
  },
  {
   "cell_type": "code",
   "execution_count": 13,
   "id": "b26e8a31-a74b-4bdf-84bb-0deb2857d84c",
   "metadata": {},
   "outputs": [
    {
     "name": "stdout",
     "output_type": "stream",
     "text": [
      "Valeur Cmax :  397.0\n"
     ]
    },
    {
     "data": {
      "text/html": [
       "\n",
       "        <iframe\n",
       "            width=\"100%\"\n",
       "            height=\"650\"\n",
       "            src=\"http://127.0.0.1:8030/\"\n",
       "            frameborder=\"0\"\n",
       "            allowfullscreen\n",
       "            \n",
       "        ></iframe>\n",
       "        "
      ],
      "text/plain": [
       "<IPython.lib.display.IFrame at 0x1d3bae19910>"
      ]
     },
     "metadata": {},
     "output_type": "display_data"
    },
    {
     "name": "stdout",
     "output_type": "stream",
     "text": [
      "0.02999999999999999\n"
     ]
    }
   ],
   "source": [
    "# # Choix de couleurs pour les seuils\n",
    "# colors = ['r','b','y']\n",
    "\n",
    "# # Tracer les courbes par machine\n",
    "# fig, axes = plt.subplots(nbMachines, 1, figsize=(12, 16), sharex=True)\n",
    "\n",
    "# ind = 0\n",
    "# for k in range(nbMachines):\n",
    "#     col = 0\n",
    "#     for l in range(nbComposants[k]):\n",
    "#         axes[k].plot(deg[ind], label=f'Composant {l+1}', color=colors[col])\n",
    "#         axes[k].axhline(y=seuils_degradation[k][l], color=colors[col], linestyle='--', label=f'Seuil Composant {l+1}')\n",
    "#         ind += 1\n",
    "#         col += 1\n",
    "#     axes[k].set_title(f'Machine {k+1}')\n",
    "#     axes[k].set_ylabel('Dégradation')\n",
    "#     axes[k].legend()\n",
    "#     axes[k].grid(True)\n",
    "\n",
    "# plt.xlabel('Cycle (n)')\n",
    "# plt.tight_layout()\n",
    "# plt.show()\n",
    "\n",
    "print(\"Valeur Cmax : \", Cmax.x)\n",
    "fig = creerDiagrammeGantt(dureeOperations, couleurMachines)\n",
    "app = create_gantt_chart(couleurMachines, fig, title=\"Ordonnancement\", cell_widht=1, cell_height=40)\n",
    "if __name__ == '__main__':\n",
    "    app.run_server(debug=True, port=8030)\n",
    "\n",
    "data = {\n",
    "    \"Cmax_x\": Cmax.x,\n",
    "    \"fig\": fig,\n",
    "    \"quality\": [elt.x for elt in Qj],\n",
    "    \"degradations\": deg\n",
    "}\n",
    "print( sum([(1-Qj[j].x) for j in range(nbJobs)])/nbJobs)\n",
    "      \n",
    "# Écrire les données dans un fichier JSON\n",
    "# with open('../TESTS/k1/instance01/test_result.json', 'w') as json_file:\n",
    "#     json.dump(data, json_file, indent=4)"
   ]
  },
  {
   "cell_type": "code",
   "execution_count": null,
   "id": "0799534b-eb2d-488a-96bc-b0e7bd631f98",
   "metadata": {},
   "outputs": [],
   "source": []
  }
 ],
 "metadata": {
  "kernelspec": {
   "display_name": "Python 3.8.10 64-bit",
   "language": "python",
   "name": "python3"
  },
  "language_info": {
   "codemirror_mode": {
    "name": "ipython",
    "version": 3
   },
   "file_extension": ".py",
   "mimetype": "text/x-python",
   "name": "python",
   "nbconvert_exporter": "python",
   "pygments_lexer": "ipython3",
   "version": "3.8.10"
  },
  "vscode": {
   "interpreter": {
    "hash": "ddb78ebb4e34c4c7d23aff4056d76f8bef9ddb851ee78b4d783e515a27bf746d"
   }
  }
 },
 "nbformat": 4,
 "nbformat_minor": 5
}
