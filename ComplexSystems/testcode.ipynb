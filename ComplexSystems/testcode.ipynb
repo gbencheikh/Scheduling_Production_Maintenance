{
 "cells": [
  {
   "cell_type": "code",
   "execution_count": 1,
   "metadata": {},
   "outputs": [
    {
     "name": "stdout",
     "output_type": "stream",
     "text": [
      "67.10000000000001  0.0016431999999992897\n"
     ]
    }
   ],
   "source": [
    "from RecuitSimuleCS import *\n",
    "from fonctions.data import Data\n",
    "from fonctions.CommonFunctions import *\n",
    "\n",
    "import random\n",
    "import math\n",
    "import matplotlib.pyplot as plt\n",
    "from PIL import Image\n",
    "import time \n",
    "\n",
    "lambdaPM = [0.8]\n",
    "mu = [0]\n",
    "PM_time = [2]\n",
    "\n",
    "nbJobs, nbMachines, nbOperationsParJob, dureeOperations, processingTimes = parse_operations_file(f\"TESTS/k1/k1.txt\")\n",
    "_, _, nbComposants, seuils_degradation, dureeMaintenances, degradations, degradations2 = parse_degradations_file(f\"TESTS/k1/instance01/instance.txt\")\n",
    " \n",
    "data = Data(nbJobs, nbMachines, nbComposants, seuils_degradation, dureeMaintenances, degradations, degradations2, nbOperationsParJob, dureeOperations, processingTimes)\n",
    "\n",
    "tempInit=100\n",
    "tempFin=90\n",
    "coolRate=0.9\n",
    "iters=10\n",
    "\n",
    "rscs=RSCS(data)\n",
    "best_solution, best_energy, total_execution_time = rscs.Run_RSCS(tempInit,tempFin,coolRate,iters)\n",
    "print(f\"{best_energy}  {total_execution_time}\")\n",
    "                            \n",
    "\n"
   ]
  },
  {
   "cell_type": "code",
   "execution_count": 1,
   "metadata": {},
   "outputs": [],
   "source": [
    "from RecuitSimuleCS import *\n",
    "from fonctions.data import Data\n",
    "from fonctions.CommonFunctions import *"
   ]
  }
 ],
 "metadata": {
  "kernelspec": {
   "display_name": "Python 3.8.10 64-bit",
   "language": "python",
   "name": "python3"
  },
  "language_info": {
   "codemirror_mode": {
    "name": "ipython",
    "version": 3
   },
   "file_extension": ".py",
   "mimetype": "text/x-python",
   "name": "python",
   "nbconvert_exporter": "python",
   "pygments_lexer": "ipython3",
   "version": "3.8.10"
  },
  "orig_nbformat": 4,
  "vscode": {
   "interpreter": {
    "hash": "ddb78ebb4e34c4c7d23aff4056d76f8bef9ddb851ee78b4d783e515a27bf746d"
   }
  }
 },
 "nbformat": 4,
 "nbformat_minor": 2
}
