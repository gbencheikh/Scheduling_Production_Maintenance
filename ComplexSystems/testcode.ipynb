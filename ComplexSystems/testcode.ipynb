{
 "cells": [
  {
   "cell_type": "code",
   "execution_count": 13,
   "metadata": {},
   "outputs": [
    {
     "name": "stdout",
     "output_type": "stream",
     "text": [
      "1\n"
     ]
    }
   ],
   "source": [
    "from RecuitSimuleCS import *\n",
    "from fonctions.data import Data\n",
    "from fonctions.CommonFunctions import *\n",
    "\n",
    "import random\n",
    "import math\n",
    "import matplotlib.pyplot as plt\n",
    "from PIL import Image\n",
    "import time \n",
    "\n",
    "lambdaPM = [0.8]\n",
    "mu = [0]\n",
    "PM_time = [2]\n",
    "\n",
    "nbJobs, nbMachines, nbOperationsParJob, dureeOperations, processingTimes = parse_operations_file(f\"ComplexSystems/TESTS/k1/k1.txt\")\n",
    "_, _, nbComposants, seuils_degradation, dureeMaintenances, degradations, degradations2 = parse_degradations_file(f\"ComplexSystems/TESTS/k1/instance01/instance.txt\")\n",
    " \n",
    "data = Data(nbJobs, nbMachines, nbComposants, seuils_degradation, dureeMaintenances, degradations, degradations2, nbOperationsParJob, dureeOperations, processingTimes)\n",
    "\n",
    "\n",
    "print(\"lambda \tMu\tPM_time\tCmax\tnb PM\tExecution (s)\")\n",
    "tempInit=[100]\n",
    "tempFin=[90]\n",
    "coolRate=[0.1]\n",
    "iters=[20]\n",
    "\n",
    "best_solution, best_energy, total_execution_time = Run_RSCS(data,tempInit,tempFin,coolRate,iters)\n",
    "nb_PM = sum([len(m) for id, m in enumerate(commun_functions.evaluate(best_solution, data_instance)[4])])\n",
    "print(f\"{lbd}   {m} {pm}    {best_energy}   {nb_PM} {total_execution_time}\")\n",
    "                            \n",
    "\n",
    "\n",
    "a=[[True, False],[False, False]]\n",
    "print(sum([sum(a[i]) for i in range(len(a))]))\n"
   ]
  },
  {
   "cell_type": "code",
   "execution_count": 1,
   "metadata": {},
   "outputs": [],
   "source": [
    "from RecuitSimuleCS import *\n",
    "from fonctions.data import Data\n",
    "from fonctions.CommonFunctions import *"
   ]
  }
 ],
 "metadata": {
  "kernelspec": {
   "display_name": "Python 3.8.10 64-bit",
   "language": "python",
   "name": "python3"
  },
  "language_info": {
   "codemirror_mode": {
    "name": "ipython",
    "version": 3
   },
   "file_extension": ".py",
   "mimetype": "text/x-python",
   "name": "python",
   "nbconvert_exporter": "python",
   "pygments_lexer": "ipython3",
   "version": "3.8.10"
  },
  "orig_nbformat": 4,
  "vscode": {
   "interpreter": {
    "hash": "ddb78ebb4e34c4c7d23aff4056d76f8bef9ddb851ee78b4d783e515a27bf746d"
   }
  }
 },
 "nbformat": 4,
 "nbformat_minor": 2
}
