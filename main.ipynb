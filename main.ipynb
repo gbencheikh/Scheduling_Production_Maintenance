{
 "cells": [
  {
   "cell_type": "code",
   "execution_count": 2,
   "metadata": {},
   "outputs": [],
   "source": [
    "from utils import commun_functions, data, diagram\n",
    "from RecuitSimule import RS\n",
    "from VariableNeighborhoodSearch import VNS\n",
    "import random\n",
    "import math\n",
    "import matplotlib.pyplot as plt\n",
    "from PIL import Image\n",
    "import time "
   ]
  },
  {
   "cell_type": "code",
   "execution_count": 7,
   "metadata": {},
   "outputs": [],
   "source": [
    "instancefilename='Instances/Kacem1.fjs'\n",
    "ProcTime=commun_functions.FJSInstanceReading(instancefilename)\n",
    "data_instance = data.data(0.0, 0.0, 0, ProcTime)"
   ]
  },
  {
   "cell_type": "code",
   "execution_count": 111,
   "metadata": {},
   "outputs": [
    {
     "name": "stdout",
     "output_type": "stream",
     "text": [
      "[(0, 2), (0, 1), (0, 0), (1, 1), (1, 1), (1, 1), (2, 2), (2, 4), (2, 0), (2, 3), (3, 3), (3, 1)]  NM= 5  NJ= 4  cmax= 25\n"
     ]
    }
   ],
   "source": [
    "RandomSol=[(jid,mo[0]) for jid,job in enumerate(ProcTime) for opid,op in enumerate(job) for mo in random.sample(op,1)]\n",
    "#random.shuffle(RandomSol)\n",
    "NM,NJ,cmax,schedule,maint,ehf=commun_functions.evaluate(RandomSol,data_instance)\n",
    "print(RandomSol,\" NM=\",NM,\" NJ=\",NJ,\" cmax=\", cmax)"
   ]
  },
  {
   "cell_type": "code",
   "execution_count": 8,
   "metadata": {},
   "outputs": [
    {
     "name": "stdout",
     "output_type": "stream",
     "text": [
      "Initial solution:  [(5, 1), (2, 1), (2, 5), (4, 1), (1, 0), (8, 4), (8, 6), (2, 0), (7, 4), (3, 1), (5, 2), (0, 1), (7, 4), (9, 5), (7, 3), (6, 4), (8, 0), (0, 4), (1, 1), (0, 0), (5, 6), (9, 6), (6, 3), (3, 6), (4, 3), (3, 4), (4, 4), (6, 2), (9, 3)]\n",
      "*********** Basic VNS with kmax= 29  tmax= 10 ***********\n",
      "Initial solution:  [(8, 3), (5, 0), (3, 4), (4, 3), (8, 2), (3, 1), (0, 0), (0, 6), (1, 1), (2, 4), (7, 0), (7, 4), (7, 5), (4, 3), (3, 5), (6, 1), (2, 3), (2, 2), (8, 4), (9, 3), (6, 2), (9, 2), (0, 0), (1, 6), (5, 1), (9, 4), (6, 2), (5, 1), (4, 6)]\n",
      "*********** Basic VNS with kmax= 29  tmax= 10 ***********\n",
      "Initial solution:  [(8, 6), (0, 0), (9, 0), (8, 2), (4, 6), (3, 4), (0, 4), (2, 6), (7, 2), (4, 3), (6, 2), (7, 0), (2, 1), (7, 4), (5, 4), (8, 6), (5, 6), (9, 0), (3, 5), (3, 0), (0, 5), (1, 5), (5, 0), (6, 4), (1, 4), (9, 4), (4, 4), (6, 4), (2, 6)]\n",
      "*********** Basic VNS with kmax= 29  tmax= 10 ***********\n",
      "bestVNS= 25  BestRS= 61\n"
     ]
    }
   ],
   "source": [
    "kmax=sum([1  for jid,job in enumerate(ProcTime) for opid,op in enumerate(job) if len(op)>1])\n",
    "UBcmax=sum([ ])\n",
    "NMachines=max([om[0]  for jid,job in enumerate(ProcTime) for opid,op in enumerate(job) for omid,om in enumerate(op)])\n",
    "InstanceAuthorName='Kacem'\n",
    "instancename='Kacem2'\n",
    "resfilename=\"Results/%s.csv\" % instancename\n",
    "resfich = open(resfilename, \"a\")\n",
    "resfich.write(\"n;mu;lambda;pmtime; cmax\")\n",
    "for m in range(NMachines):\n",
    "    resfich.write(\"; Nbr%d\" % m)\n",
    "resfich.write(\"\\n\")\n",
    "MUs=[0.1]\n",
    "EHFs=[0.8]\n",
    "PMTIMEs=[2]\n",
    "N=len(MUs)*len(EHFs)*len(PMTIMEs)\n",
    "n=0\n",
    "nbrestart=3\n",
    "maxtime=10\n",
    "showplots=True\n",
    "for mu in MUs:\n",
    "    data_instance.mu=mu\n",
    "    for EHFmax in EHFs:\n",
    "        data_instance.lambdaPM=EHFmax\n",
    "        for pmtime in PMTIMEs: \n",
    "            data_instance.PM_time=pmtime\n",
    "            VNS_Algo = VNS(kmax, maxtime, data_instance)\n",
    "            c0=float(\"inf\")\n",
    "            best_energy=c0\n",
    "            for k in range(nbrestart): \n",
    "                RS_initial_solution = commun_functions.GenererSolution(data_instance)\n",
    "                RS_instance = RS(RS_initial_solution, 50, 0.1, 0.1, 10, 100)\n",
    "                best_sub_solution, best_sub_energy, nb_sub_iteration = RS_instance.simulated_annealing(data_instance)\n",
    "                if best_sub_energy < best_energy : \n",
    "                    best_solution = best_sub_solution\n",
    "                    best_energy = best_sub_energy\n",
    "                    nb_iteration = nb_sub_iteration\n",
    "                a,b,c,d,e,f,solVNS = VNS_Algo.BasicVNS()\n",
    "                if c<c0:\n",
    "                    a0,b0,c0,d0,e0,f0,bestsolVNS = a,b,c,d,e,f,solVNS\n",
    "            print('bestVNS=',c0,' BestRS=',best_energy)\n",
    "            \"\"\"\"\n",
    "            pngfilename='results/Figs/%s/%s_%d.png' % (InstanceAuthorName,instancename,n)\n",
    "            GanttVNS = diagram.diagram(a0,b0,pmtime,mu,c0,d0,e0,f0,pngfilename)\n",
    "            GanttVNS.plotGantt()\n",
    "            GanttVNS.plotEHF2()\n",
    "            nbrmaint=[len(mtasks) for mi,mtasks in enumerate(e0)]\n",
    "            resfich.write(\"%d ;%d ; %d ; %d ; %d\" % (n,mu,EHFmax,pmtime,c0))\n",
    "            for m in range(len(nbrmaint)):\n",
    "                resfich.write(\"; %d\" % nbrmaint[m])\n",
    "            resfich.write(\"\\n\")\n",
    "            print(f\"Best solution = {bestsolVNS}\")\n",
    "            if showplots:\n",
    "                # Charger les images enregistrées\n",
    "                image_gantt = Image.open(GanttVNS.ganttsavefilename)\n",
    "                image_ehf = Image.open(GanttVNS.ehfplotsavefilename)\n",
    "                # Afficher les deux images dans une seule fenêtre\n",
    "                fig, ax = plt.subplots(1, 2, figsize=(20, 10))\n",
    "                ax[0].imshow(image_gantt)\n",
    "                ax[0].axis('off')\n",
    "                ax[0].set_title('Gantt Chart')\n",
    "                ax[1].imshow(image_ehf)\n",
    "                ax[1].axis('off')\n",
    "                ax[1].set_title('EHF Chart')\n",
    "                plt.show()\n",
    "            \"\"\"\n",
    "resfich.close()"
   ]
  },
  {
   "attachments": {},
   "cell_type": "markdown",
   "metadata": {},
   "source": []
  },
  {
   "cell_type": "code",
   "execution_count": 10,
   "metadata": {},
   "outputs": [
    {
     "name": "stdout",
     "output_type": "stream",
     "text": [
      "**** test 1 / 1 *******\n",
      "*********** Basic VNS with kmax= 12  tmax= 10 ***********\n",
      "MTask: (7, 2)\n",
      "Best solution = [(0, 0), (0, 1), (2, 3), (0, 3), (2, 1), (1, 0), (1, 0), (3, 0), (3, 1), (2, 0), (2, 2), (1, 4)]\n"
     ]
    }
   ],
   "source": [
    "\n"
   ]
  },
  {
   "attachments": {},
   "cell_type": "markdown",
   "metadata": {},
   "source": [
    "# Recuit Simulé "
   ]
  },
  {
   "cell_type": "code",
   "execution_count": 5,
   "metadata": {},
   "outputs": [
    {
     "name": "stdout",
     "output_type": "stream",
     "text": [
      "Initial solution:  [(0, 1), (3, 2), (0, 0), (2, 4), (3, 0), (2, 0), (2, 0), (1, 0), (1, 3), (0, 1), (1, 0), (2, 3)]\n",
      "Initial solution:  [(3, 0), (2, 2), (1, 2), (0, 3), (1, 0), (3, 4), (1, 4), (2, 1), (2, 3), (0, 0), (2, 4), (0, 4)]\n",
      "Initial solution:  [(1, 1), (0, 3), (0, 3), (1, 4), (2, 2), (0, 1), (2, 4), (1, 0), (2, 0), (3, 3), (2, 3), (3, 1)]\n",
      "Initial solution:  [(2, 4), (0, 2), (2, 0), (1, 4), (1, 0), (0, 0), (1, 0), (2, 0), (3, 3), (3, 1), (2, 0), (0, 4)]\n",
      "Initial solution:  [(1, 0), (1, 3), (0, 2), (3, 1), (2, 0), (2, 2), (2, 3), (0, 3), (0, 2), (3, 0), (1, 3), (2, 0)]\n",
      "Initial solution:  [(0, 3), (1, 1), (2, 2), (3, 2), (2, 1), (0, 0), (1, 0), (0, 2), (1, 4), (2, 3), (3, 4), (2, 3)]\n",
      "Initial solution:  [(2, 1), (1, 4), (0, 4), (3, 4), (1, 2), (2, 3), (2, 2), (3, 3), (0, 3), (2, 2), (1, 4), (0, 3)]\n",
      "Initial solution:  [(2, 0), (1, 3), (1, 3), (0, 1), (0, 2), (0, 1), (3, 2), (3, 2), (1, 3), (2, 1), (2, 0), (2, 2)]\n",
      "Initial solution:  [(2, 3), (1, 0), (0, 4), (0, 3), (2, 1), (3, 2), (1, 1), (2, 2), (0, 4), (3, 2), (1, 0), (2, 1)]\n",
      "Initial solution:  [(0, 3), (2, 3), (1, 4), (2, 4), (1, 1), (2, 4), (1, 2), (2, 1), (0, 1), (3, 2), (0, 1), (3, 2)]\n",
      "Initial solution:  [(2, 3), (1, 4), (0, 2), (0, 0), (2, 3), (2, 1), (3, 4), (1, 1), (0, 1), (3, 0), (2, 0), (1, 1)]\n",
      "Initial solution:  [(0, 0), (1, 2), (2, 1), (3, 4), (2, 1), (2, 2), (3, 2), (2, 1), (1, 2), (0, 0), (1, 0), (0, 1)]\n",
      "Initial solution:  [(2, 4), (2, 4), (2, 1), (1, 3), (2, 4), (0, 4), (1, 1), (3, 1), (1, 4), (0, 0), (0, 2), (3, 2)]\n",
      "Initial solution:  [(3, 4), (1, 0), (3, 0), (2, 2), (2, 3), (1, 2), (0, 1), (2, 2), (0, 0), (1, 0), (0, 4), (2, 4)]\n",
      "Initial solution:  [(2, 4), (0, 0), (1, 2), (1, 0), (3, 4), (2, 4), (0, 0), (2, 3), (1, 1), (3, 1), (2, 2), (0, 4)]\n",
      "Initial solution:  [(1, 2), (0, 0), (0, 1), (1, 0), (3, 3), (2, 3), (2, 3), (3, 1), (1, 4), (0, 2), (2, 0), (2, 2)]\n",
      "Initial solution:  [(1, 1), (2, 2), (3, 3), (0, 1), (1, 4), (3, 2), (2, 1), (0, 1), (2, 2), (1, 4), (0, 1), (2, 1)]\n",
      "Initial solution:  [(2, 3), (0, 0), (0, 3), (3, 4), (1, 2), (2, 2), (3, 1), (2, 3), (1, 4), (2, 2), (0, 3), (1, 3)]\n",
      "Initial solution:  [(3, 4), (2, 3), (2, 3), (0, 4), (1, 3), (2, 0), (2, 4), (0, 2), (0, 0), (1, 3), (1, 4), (3, 1)]\n",
      "Initial solution:  [(1, 0), (2, 4), (3, 3), (0, 3), (3, 4), (0, 0), (0, 1), (2, 3), (1, 1), (2, 3), (1, 3), (2, 3)]\n",
      "Initial solution:  [(0, 2), (0, 2), (2, 3), (2, 2), (1, 1), (1, 0), (3, 0), (3, 0), (1, 2), (2, 2), (2, 1), (0, 2)]\n",
      "Initial solution:  [(0, 4), (1, 4), (2, 2), (1, 3), (3, 0), (0, 2), (1, 2), (2, 1), (2, 4), (0, 4), (3, 0), (2, 4)]\n",
      "Initial solution:  [(2, 0), (0, 4), (1, 1), (2, 1), (0, 2), (3, 1), (1, 3), (3, 2), (2, 0), (2, 1), (0, 1), (1, 2)]\n",
      "Initial solution:  [(2, 4), (2, 2), (3, 2), (1, 3), (2, 0), (1, 0), (2, 4), (0, 3), (1, 1), (0, 3), (3, 3), (0, 3)]\n",
      "Initial solution:  [(2, 1), (0, 4), (2, 2), (1, 0), (1, 2), (0, 3), (3, 2), (1, 2), (2, 2), (2, 1), (0, 0), (3, 0)]\n",
      "Initial solution:  [(1, 3), (1, 4), (0, 4), (2, 0), (0, 3), (3, 0), (2, 4), (2, 0), (3, 2), (1, 4), (0, 4), (2, 2)]\n",
      "Initial solution:  [(2, 4), (0, 4), (1, 1), (0, 0), (0, 1), (3, 4), (1, 1), (3, 2), (2, 0), (2, 4), (1, 3), (2, 1)]\n",
      "Initial solution:  [(2, 2), (3, 4), (0, 2), (1, 2), (1, 4), (2, 1), (3, 0), (2, 2), (1, 0), (2, 4), (0, 3), (0, 2)]\n",
      "Initial solution:  [(0, 3), (1, 1), (3, 0), (2, 1), (3, 4), (2, 4), (1, 2), (0, 1), (0, 3), (2, 2), (2, 4), (1, 0)]\n",
      "Initial solution:  [(1, 2), (1, 4), (0, 4), (3, 3), (2, 2), (2, 4), (1, 3), (2, 1), (0, 0), (0, 2), (3, 1), (2, 3)]\n",
      "Initial solution:  [(3, 1), (2, 2), (0, 3), (0, 2), (2, 1), (1, 0), (1, 3), (2, 2), (1, 1), (0, 1), (3, 0), (2, 1)]\n",
      "Initial solution:  [(1, 2), (2, 0), (0, 3), (1, 4), (3, 3), (2, 1), (0, 2), (2, 0), (1, 0), (2, 3), (3, 2), (0, 3)]\n",
      "Initial solution:  [(1, 1), (1, 3), (3, 3), (2, 4), (2, 3), (2, 1), (0, 4), (1, 1), (2, 4), (3, 1), (0, 2), (0, 3)]\n",
      "Initial solution:  [(1, 2), (2, 0), (3, 4), (1, 3), (1, 1), (2, 1), (2, 4), (0, 1), (0, 0), (0, 0), (2, 1), (3, 0)]\n",
      "Initial solution:  [(1, 1), (1, 4), (2, 1), (2, 0), (0, 0), (0, 0), (2, 1), (3, 1), (0, 0), (1, 3), (2, 4), (3, 2)]\n",
      "Initial solution:  [(0, 4), (1, 2), (2, 2), (3, 3), (0, 3), (1, 4), (2, 4), (3, 4), (1, 4), (2, 3), (2, 3), (0, 2)]\n",
      "Initial solution:  [(1, 2), (2, 2), (3, 0), (3, 1), (0, 2), (2, 0), (1, 4), (0, 4), (2, 3), (1, 2), (0, 1), (2, 4)]\n",
      "Initial solution:  [(2, 0), (0, 3), (1, 2), (2, 0), (1, 3), (2, 4), (2, 3), (3, 3), (1, 4), (3, 0), (0, 3), (0, 0)]\n",
      "Initial solution:  [(3, 2), (2, 0), (2, 2), (1, 3), (1, 4), (3, 3), (2, 4), (0, 3), (1, 3), (0, 0), (0, 0), (2, 0)]\n",
      "Initial solution:  [(2, 1), (3, 2), (0, 4), (2, 4), (2, 2), (2, 3), (1, 1), (1, 2), (0, 1), (3, 4), (1, 0), (0, 3)]\n",
      "Initial solution:  [(3, 2), (2, 3), (1, 3), (1, 1), (2, 3), (2, 4), (1, 1), (2, 0), (0, 2), (0, 3), (3, 0), (0, 4)]\n",
      "Initial solution:  [(2, 2), (2, 4), (2, 3), (2, 0), (0, 2), (1, 4), (3, 3), (3, 4), (0, 2), (1, 1), (1, 1), (0, 3)]\n",
      "Initial solution:  [(0, 3), (1, 0), (2, 1), (3, 4), (2, 4), (1, 1), (0, 2), (1, 1), (2, 1), (0, 1), (2, 0), (3, 1)]\n",
      "Initial solution:  [(2, 0), (1, 2), (1, 3), (3, 4), (3, 1), (0, 3), (0, 0), (1, 2), (0, 3), (2, 0), (2, 0), (2, 2)]\n",
      "Initial solution:  [(3, 1), (0, 3), (2, 4), (2, 3), (1, 0), (2, 4), (1, 3), (2, 2), (0, 1), (1, 1), (0, 0), (3, 1)]\n",
      "Initial solution:  [(1, 0), (3, 1), (3, 1), (1, 2), (2, 4), (0, 2), (2, 3), (1, 4), (2, 3), (0, 4), (0, 0), (2, 3)]\n",
      "Initial solution:  [(0, 1), (3, 0), (2, 1), (2, 2), (1, 2), (1, 3), (2, 4), (2, 1), (0, 3), (1, 3), (0, 2), (3, 2)]\n",
      "Initial solution:  [(0, 3), (2, 3), (3, 3), (2, 3), (0, 4), (2, 1), (1, 3), (1, 2), (0, 3), (2, 4), (1, 4), (3, 3)]\n",
      "Initial solution:  [(0, 3), (1, 4), (2, 2), (1, 4), (3, 2), (2, 2), (2, 0), (1, 1), (3, 0), (0, 0), (2, 1), (0, 0)]\n",
      "Initial solution:  [(0, 3), (2, 1), (0, 3), (0, 1), (2, 0), (1, 0), (1, 2), (3, 2), (2, 1), (3, 1), (2, 0), (1, 3)]\n",
      "Initial solution:  [(1, 4), (1, 2), (0, 4), (1, 2), (3, 0), (2, 3), (0, 2), (2, 3), (2, 1), (2, 0), (0, 0), (3, 2)]\n",
      "Initial solution:  [(0, 1), (0, 4), (2, 2), (1, 1), (2, 2), (0, 3), (3, 2), (2, 0), (1, 1), (3, 4), (2, 3), (1, 3)]\n",
      "Initial solution:  [(0, 0), (2, 0), (3, 4), (2, 0), (0, 4), (1, 2), (1, 0), (2, 2), (1, 1), (2, 4), (0, 3), (3, 4)]\n",
      "Initial solution:  [(1, 3), (3, 3), (1, 1), (2, 1), (2, 3), (1, 4), (0, 2), (3, 4), (0, 0), (2, 2), (0, 1), (2, 1)]\n",
      "Initial solution:  [(0, 4), (3, 4), (3, 2), (1, 2), (2, 1), (1, 2), (1, 3), (0, 0), (2, 3), (2, 2), (0, 4), (2, 0)]\n",
      "Initial solution:  [(2, 0), (0, 2), (1, 4), (0, 3), (2, 1), (2, 3), (1, 1), (1, 3), (3, 1), (2, 1), (0, 2), (3, 3)]\n",
      "Initial solution:  [(0, 0), (2, 4), (2, 0), (2, 3), (2, 4), (1, 1), (0, 4), (1, 1), (0, 1), (3, 4), (1, 2), (3, 2)]\n",
      "Initial solution:  [(2, 3), (1, 1), (2, 2), (1, 0), (3, 0), (2, 1), (0, 4), (3, 4), (1, 0), (2, 0), (0, 0), (0, 0)]\n",
      "Initial solution:  [(2, 4), (1, 3), (3, 3), (1, 2), (3, 2), (2, 4), (0, 3), (0, 4), (0, 4), (2, 0), (2, 3), (1, 4)]\n",
      "Initial solution:  [(1, 2), (0, 2), (1, 0), (0, 4), (2, 0), (0, 2), (1, 2), (3, 0), (2, 4), (2, 2), (2, 1), (3, 1)]\n",
      "Initial solution:  [(1, 3), (0, 2), (3, 3), (2, 4), (0, 3), (1, 2), (2, 1), (2, 2), (2, 0), (0, 1), (3, 0), (1, 1)]\n",
      "Initial solution:  [(0, 0), (0, 4), (2, 3), (3, 3), (1, 1), (3, 0), (0, 0), (1, 3), (2, 3), (2, 1), (1, 3), (2, 4)]\n",
      "Initial solution:  [(2, 0), (0, 2), (0, 1), (1, 3), (2, 3), (1, 1), (3, 2), (2, 3), (0, 0), (2, 3), (3, 0), (1, 4)]\n",
      "Initial solution:  [(1, 1), (2, 3), (1, 4), (0, 3), (2, 2), (2, 1), (3, 4), (0, 1), (1, 0), (2, 0), (3, 1), (0, 2)]\n",
      "Initial solution:  [(1, 0), (1, 4), (3, 0), (2, 1), (0, 2), (2, 0), (3, 1), (1, 3), (2, 0), (0, 2), (2, 1), (0, 4)]\n",
      "Initial solution:  [(0, 3), (2, 2), (2, 0), (3, 4), (1, 1), (0, 1), (2, 3), (0, 4), (1, 4), (2, 2), (1, 0), (3, 1)]\n",
      "Initial solution:  [(3, 0), (0, 0), (3, 0), (2, 4), (2, 1), (2, 3), (1, 0), (1, 3), (2, 1), (1, 4), (0, 3), (0, 2)]\n",
      "Initial solution:  [(0, 0), (1, 0), (1, 4), (2, 2), (1, 0), (3, 1), (2, 0), (3, 0), (0, 4), (2, 1), (2, 1), (0, 1)]\n",
      "Initial solution:  [(2, 1), (2, 4), (0, 3), (1, 3), (1, 2), (1, 3), (2, 0), (2, 2), (3, 4), (0, 1), (3, 4), (0, 1)]\n",
      "Initial solution:  [(3, 0), (0, 4), (0, 1), (1, 2), (2, 3), (2, 4), (2, 3), (1, 0), (1, 2), (3, 1), (2, 1), (0, 1)]\n",
      "Initial solution:  [(2, 2), (0, 1), (3, 4), (0, 2), (1, 4), (1, 2), (2, 0), (0, 2), (3, 2), (1, 3), (2, 2), (2, 2)]\n",
      "Initial solution:  [(1, 2), (0, 4), (2, 3), (1, 3), (0, 3), (1, 3), (3, 3), (3, 0), (2, 1), (2, 4), (0, 1), (2, 4)]\n",
      "Initial solution:  [(3, 0), (3, 3), (1, 3), (2, 3), (1, 0), (2, 0), (1, 0), (0, 2), (0, 3), (2, 0), (0, 3), (2, 3)]\n",
      "Initial solution:  [(2, 4), (2, 0), (3, 0), (2, 1), (0, 3), (1, 2), (1, 1), (0, 1), (2, 2), (3, 2), (1, 3), (0, 2)]\n",
      "Initial solution:  [(1, 4), (0, 4), (0, 3), (3, 0), (2, 3), (3, 2), (2, 2), (1, 3), (2, 3), (1, 4), (0, 2), (2, 0)]\n",
      "Initial solution:  [(2, 3), (3, 2), (3, 4), (1, 1), (1, 2), (2, 4), (0, 1), (0, 0), (1, 0), (2, 4), (2, 2), (0, 0)]\n",
      "Initial solution:  [(3, 0), (0, 0), (3, 4), (2, 0), (2, 1), (0, 0), (2, 0), (1, 2), (2, 2), (1, 3), (0, 0), (1, 2)]\n",
      "Initial solution:  [(2, 3), (1, 3), (1, 1), (3, 3), (0, 1), (0, 0), (2, 1), (0, 2), (3, 0), (2, 1), (1, 2), (2, 1)]\n",
      "Initial solution:  [(2, 4), (3, 4), (0, 1), (0, 1), (2, 2), (3, 1), (1, 3), (2, 4), (1, 2), (2, 3), (0, 3), (1, 3)]\n",
      "Initial solution:  [(2, 0), (2, 4), (1, 3), (2, 0), (2, 4), (3, 4), (3, 1), (0, 0), (1, 2), (0, 3), (1, 4), (0, 4)]\n",
      "Initial solution:  [(0, 2), (1, 4), (0, 3), (2, 0), (2, 4), (2, 4), (3, 0), (1, 2), (0, 1), (2, 3), (1, 2), (3, 0)]\n",
      "Initial solution:  [(2, 0), (0, 2), (3, 3), (3, 3), (0, 0), (2, 4), (1, 0), (0, 4), (2, 0), (1, 3), (2, 1), (1, 2)]\n",
      "Initial solution:  [(2, 4), (0, 2), (0, 3), (2, 0), (1, 1), (1, 4), (2, 4), (0, 3), (2, 2), (3, 4), (3, 3), (1, 2)]\n",
      "Initial solution:  [(0, 4), (2, 4), (1, 3), (3, 3), (1, 3), (0, 3), (0, 2), (2, 3), (1, 1), (2, 3), (2, 3), (3, 4)]\n",
      "Initial solution:  [(0, 1), (2, 1), (1, 0), (3, 3), (0, 0), (3, 2), (2, 1), (0, 1), (2, 2), (1, 4), (1, 0), (2, 2)]\n",
      "Initial solution:  [(1, 3), (2, 1), (0, 0), (0, 3), (2, 0), (1, 3), (0, 2), (3, 4), (1, 0), (2, 1), (3, 0), (2, 0)]\n",
      "Initial solution:  [(3, 4), (1, 4), (2, 2), (1, 3), (3, 4), (2, 3), (2, 4), (0, 1), (0, 2), (0, 0), (2, 1), (1, 1)]\n",
      "Initial solution:  [(0, 3), (1, 3), (2, 2), (0, 0), (2, 3), (0, 0), (3, 1), (1, 4), (1, 0), (3, 1), (2, 0), (2, 2)]\n",
      "Initial solution:  [(2, 3), (0, 0), (3, 1), (0, 2), (2, 0), (1, 1), (3, 4), (0, 1), (1, 1), (2, 1), (2, 3), (1, 0)]\n",
      "Initial solution:  [(0, 3), (1, 1), (2, 0), (2, 2), (1, 2), (0, 2), (2, 1), (2, 1), (1, 2), (3, 2), (0, 2), (3, 4)]\n",
      "Initial solution:  [(0, 2), (3, 2), (2, 0), (2, 4), (0, 2), (1, 1), (2, 2), (1, 0), (2, 2), (3, 2), (0, 4), (1, 3)]\n",
      "Initial solution:  [(2, 3), (1, 0), (1, 1), (2, 0), (0, 3), (0, 3), (3, 3), (3, 1), (2, 4), (2, 0), (0, 4), (1, 3)]\n",
      "Initial solution:  [(0, 1), (1, 2), (2, 3), (0, 0), (2, 0), (3, 2), (3, 4), (0, 3), (1, 1), (2, 4), (1, 4), (2, 0)]\n",
      "Initial solution:  [(0, 4), (3, 3), (0, 3), (1, 0), (1, 4), (2, 3), (2, 4), (2, 3), (3, 1), (1, 3), (0, 0), (2, 1)]\n",
      "Initial solution:  [(1, 0), (1, 3), (2, 4), (3, 1), (0, 1), (3, 3), (0, 4), (1, 2), (0, 2), (2, 3), (2, 3), (2, 1)]\n",
      "Initial solution:  [(3, 4), (2, 3), (2, 0), (1, 0), (0, 4), (1, 1), (3, 3), (0, 0), (2, 4), (2, 1), (0, 3), (1, 0)]\n",
      "Initial solution:  [(1, 1), (0, 2), (2, 4), (0, 0), (2, 0), (3, 0), (1, 4), (2, 1), (1, 1), (0, 3), (2, 0), (3, 0)]\n",
      "Initial solution:  [(0, 4), (2, 1), (2, 2), (2, 2), (1, 4), (3, 3), (0, 1), (1, 0), (0, 4), (2, 4), (1, 1), (3, 2)]\n",
      "Initial solution:  [(2, 4), (3, 4), (0, 2), (2, 3), (1, 1), (1, 2), (1, 0), (0, 0), (2, 4), (2, 0), (0, 4), (3, 0)]\n",
      "Initial solution:  [(2, 4), (1, 4), (1, 0), (3, 4), (0, 3), (3, 1), (2, 0), (2, 4), (2, 2), (0, 0), (1, 3), (0, 4)]\n",
      "Initial solution:  [(2, 1), (1, 3), (0, 2), (0, 1), (1, 0), (2, 2), (3, 0), (3, 2), (2, 4), (1, 2), (2, 3), (0, 0)]\n",
      "intial Solution: [(2, 1), (1, 3), (0, 2), (0, 1), (1, 0), (2, 2), (3, 0), (3, 2), (2, 4), (1, 2), (2, 3), (0, 0)]\n",
      "Best Solution: [(0, 4), (1, 2), (2, 1), (3, 3), (0, 3), (1, 4), (2, 4), (3, 0), (1, 0), (2, 0), (2, 3), (0, 2)] Best energy: 18\n",
      "Number of iterations: 3\n",
      "Solutions  [29, 26, 19, 19, 19, 19, 19, 19, 19, 19, 19, 19, 19, 19, 19, 19, 19, 19, 19, 19, 19, 19, 19, 19, 19, 19, 19, 19, 19, 19, 19, 19, 19, 19, 19, 18, 18, 18, 18, 18, 18, 18, 18, 18, 18, 18, 18, 18, 18, 18, 18, 18, 18, 18, 18, 18, 18, 18, 18, 18, 18, 18, 18, 18, 18, 18, 18, 18, 18, 18, 18, 18, 18, 18, 18, 18, 18, 18, 18, 18, 18, 18, 18, 18, 18, 18, 18, 18, 18, 18, 18, 18, 18, 18, 18, 18, 18, 18, 18, 18]\n"
     ]
    }
   ],
   "source": [
    "initial_solution = commun_functions.GenererSolution(data_instance)\n",
    "RS_instance = RS(initial_solution, 50, 0.1, 0.1, 100, 100)\n",
    "best_solution, best_energy, nb_iteration = RS_instance.simulated_annealing(data_instance)\n",
    "\n",
    "iterations = 100\n",
    "x = [i for i in range(iterations)]\n",
    "\n",
    "solutions = []\n",
    "for i in range(iterations): \n",
    "    initial_solution = commun_functions.GenererSolution(data_instance)\n",
    "    RS_instance = RS(initial_solution, 50, 0.1, 0.1, 10, 100)\n",
    "\n",
    "    best_sub_solution, best_sub_energy, nb_sub_iteration = RS_instance.simulated_annealing(data_instance)\n",
    "    \n",
    "    solutions.append(best_energy)\n",
    "\n",
    "    if best_sub_energy < best_energy : \n",
    "        best_solution = best_sub_solution\n",
    "        best_energy = best_sub_energy\n",
    "        nb_iteration = nb_sub_iteration\n",
    "\n",
    "\n",
    "print(\"intial Solution:\", initial_solution)\n",
    "print(\"Best Solution:\", best_solution, \"Best energy:\", best_energy)\n",
    "print(\"Number of iterations:\", nb_iteration)\n",
    "print(\"Solutions \", solutions)"
   ]
  }
 ],
 "metadata": {
  "kernelspec": {
   "display_name": "Python 3.8.10 64-bit",
   "language": "python",
   "name": "python3"
  },
  "language_info": {
   "codemirror_mode": {
    "name": "ipython",
    "version": 3
   },
   "file_extension": ".py",
   "mimetype": "text/x-python",
   "name": "python",
   "nbconvert_exporter": "python",
   "pygments_lexer": "ipython3",
   "version": "3.8.10"
  },
  "orig_nbformat": 4,
  "vscode": {
   "interpreter": {
    "hash": "ddb78ebb4e34c4c7d23aff4056d76f8bef9ddb851ee78b4d783e515a27bf746d"
   }
  }
 },
 "nbformat": 4,
 "nbformat_minor": 2
}
