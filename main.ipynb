{
 "cells": [
  {
   "cell_type": "code",
   "execution_count": 9,
   "metadata": {},
   "outputs": [],
   "source": [
    "from utils import commun_functions, data, diagram\n",
    "from RecuitSimule import RS\n",
    "from VariableNeighborhoodSearch import VNS"
   ]
  },
  {
   "cell_type": "code",
   "execution_count": 10,
   "metadata": {},
   "outputs": [],
   "source": [
    "instancefilename='Instances/Kacem1.fjs'\n",
    "ProcTime=commun_functions.FJSInstanceReading(instancefilename)\n",
    "data_instance = data.data(0.0, 0.0, 0, ProcTime)"
   ]
  },
  {
   "cell_type": "code",
   "execution_count": 11,
   "metadata": {},
   "outputs": [
    {
     "name": "stdout",
     "output_type": "stream",
     "text": [
      "**** test 1 / 1 *******\n",
      "*********** Basic VNS with kmax= 12  tmax= 10 ***********\n"
     ]
    },
    {
     "ename": "TypeError",
     "evalue": "plotGantt() takes 1 positional argument but 2 were given",
     "output_type": "error",
     "traceback": [
      "\u001b[1;31m---------------------------------------------------------------------------\u001b[0m",
      "\u001b[1;31mTypeError\u001b[0m                                 Traceback (most recent call last)",
      "Cell \u001b[1;32mIn[11], line 38\u001b[0m\n\u001b[0;32m     36\u001b[0m pngfilename\u001b[39m=\u001b[39m\u001b[39m'\u001b[39m\u001b[39mresults/Figs/\u001b[39m\u001b[39m%s\u001b[39;00m\u001b[39m/\u001b[39m\u001b[39m%s\u001b[39;00m\u001b[39m_\u001b[39m\u001b[39m%d\u001b[39;00m\u001b[39m.png\u001b[39m\u001b[39m'\u001b[39m \u001b[39m%\u001b[39m (InstanceAuthorName,instancename,n)\n\u001b[0;32m     37\u001b[0m GanttVNS \u001b[39m=\u001b[39m diagram\u001b[39m.\u001b[39mdiagram(a0,b0,pmtime,mu,c0,d0,e0,f0,pngfilename)\n\u001b[1;32m---> 38\u001b[0m GanttVNS\u001b[39m.\u001b[39;49mplotGantt(\u001b[39mTrue\u001b[39;49;00m)\n\u001b[0;32m     39\u001b[0m GanttVNS\u001b[39m.\u001b[39mplotEHF(\u001b[39mTrue\u001b[39;00m)\n\u001b[0;32m     41\u001b[0m nbrmaint\u001b[39m=\u001b[39m[\u001b[39mlen\u001b[39m(mtasks) \u001b[39mfor\u001b[39;00m mi,mtasks \u001b[39min\u001b[39;00m \u001b[39menumerate\u001b[39m(e0)]\n",
      "\u001b[1;31mTypeError\u001b[0m: plotGantt() takes 1 positional argument but 2 were given"
     ]
    }
   ],
   "source": [
    "kmax=sum([1  for jid,job in enumerate(ProcTime) for opid,op in enumerate(job) if len(op)>1])\n",
    "NMachines=max([om[0]  for jid,job in enumerate(ProcTime) for opid,op in enumerate(job) for omid,om in enumerate(op)])\n",
    "InstanceAuthorName='Kacem'\n",
    "instancename='Kacem1'\n",
    "resfilename=\"Results/%s.csv\" % instancename\n",
    "resfich = open(resfilename, \"a\")\n",
    "resfich.write(\"n;mu;lambda;pmtime; cmax\")\n",
    "for m in range(NMachines):\n",
    "    resfich.write(\"; Nbr%d\" % m)\n",
    "resfich.write(\"\\n\")\n",
    "MUs=[0.1]\n",
    "EHFs=[0.9]\n",
    "PMTIMEs=[2]\n",
    "N=len(MUs)*len(EHFs)*len(PMTIMEs)\n",
    "n=0\n",
    "nbrestart=1\n",
    "maxtime=10\n",
    "for mu in MUs:\n",
    "    data_instance.mu=mu\n",
    "    for EHFmax in EHFs:\n",
    "        data_instance.lambdaPM=EHFmax\n",
    "        for pmtime in PMTIMEs: \n",
    "            data_instance.PM_time=pmtime\n",
    "            VNS_Algo = VNS(kmax, maxtime, data_instance)\n",
    "            n=n+1\n",
    "            print(\"**** test\",n,\"/\",N,\"*******\")\n",
    "            #print(\"NMachines=\",NMachines, \"NJobs=\",NJobs)\n",
    "            a0,b0,c0,d0,e0,f0,bestsolVNS = VNS_Algo.BasicVNS()\n",
    "            if nbrestart>1:\n",
    "                for k in range(nbrestart):\n",
    "                    #print(\"NJ=\",a,\" NM=\",b,\"restart n°\",k)\n",
    "                    a,b,c,d,e,f,solVNS = VNS_Algo.BasicVNS()\n",
    "                    if c<c0:\n",
    "                        a0,b0,c0,d0,e0,f0,bestsolVNS = a,b,c,d,e,f,solVNS\n",
    "            pngfilename='results/Figs/%s/%s_%d.png' % (InstanceAuthorName,instancename,n)\n",
    "            GanttVNS = diagram.diagram(a0,b0,pmtime,mu,c0,d0,e0,f0,pngfilename)\n",
    "            GanttVNS.plotGantt(True)\n",
    "            GanttVNS.plotEHF(True)\n",
    "\n",
    "            nbrmaint=[len(mtasks) for mi,mtasks in enumerate(e0)]\n",
    "            resfich.write(\"%d ;%d ; %d ; %d ; %d\" % (n,mu,EHFmax,pmtime,c0))\n",
    "            for m in range(len(nbrmaint)):\n",
    "                resfich.write(\"; %d\" % nbrmaint[m])\n",
    "            resfich.write(\"\\n\")\n",
    "            print(f\"Best solution = {bestsolVNS}\")\n",
    "resfich.close()"
   ]
  },
  {
   "attachments": {},
   "cell_type": "markdown",
   "metadata": {},
   "source": [
    "# Variable Neighborhood Search"
   ]
  },
  {
   "cell_type": "code",
   "execution_count": 10,
   "metadata": {},
   "outputs": [
    {
     "name": "stdout",
     "output_type": "stream",
     "text": [
      "**** test 1 / 1 *******\n",
      "*********** Basic VNS with kmax= 12  tmax= 10 ***********\n",
      "MTask: (7, 2)\n",
      "Best solution = [(0, 0), (0, 1), (2, 3), (0, 3), (2, 1), (1, 0), (1, 0), (3, 0), (3, 1), (2, 0), (2, 2), (1, 4)]\n"
     ]
    }
   ],
   "source": [
    "\n"
   ]
  },
  {
   "attachments": {},
   "cell_type": "markdown",
   "metadata": {},
   "source": [
    "# Recuit Simulé "
   ]
  },
  {
   "cell_type": "code",
   "execution_count": 5,
   "metadata": {},
   "outputs": [
    {
     "name": "stdout",
     "output_type": "stream",
     "text": [
      "Initial solution:  [(0, 1), (3, 2), (0, 0), (2, 4), (3, 0), (2, 0), (2, 0), (1, 0), (1, 3), (0, 1), (1, 0), (2, 3)]\n",
      "Initial solution:  [(3, 0), (2, 2), (1, 2), (0, 3), (1, 0), (3, 4), (1, 4), (2, 1), (2, 3), (0, 0), (2, 4), (0, 4)]\n",
      "Initial solution:  [(1, 1), (0, 3), (0, 3), (1, 4), (2, 2), (0, 1), (2, 4), (1, 0), (2, 0), (3, 3), (2, 3), (3, 1)]\n",
      "Initial solution:  [(2, 4), (0, 2), (2, 0), (1, 4), (1, 0), (0, 0), (1, 0), (2, 0), (3, 3), (3, 1), (2, 0), (0, 4)]\n",
      "Initial solution:  [(1, 0), (1, 3), (0, 2), (3, 1), (2, 0), (2, 2), (2, 3), (0, 3), (0, 2), (3, 0), (1, 3), (2, 0)]\n",
      "Initial solution:  [(0, 3), (1, 1), (2, 2), (3, 2), (2, 1), (0, 0), (1, 0), (0, 2), (1, 4), (2, 3), (3, 4), (2, 3)]\n",
      "Initial solution:  [(2, 1), (1, 4), (0, 4), (3, 4), (1, 2), (2, 3), (2, 2), (3, 3), (0, 3), (2, 2), (1, 4), (0, 3)]\n",
      "Initial solution:  [(2, 0), (1, 3), (1, 3), (0, 1), (0, 2), (0, 1), (3, 2), (3, 2), (1, 3), (2, 1), (2, 0), (2, 2)]\n",
      "Initial solution:  [(2, 3), (1, 0), (0, 4), (0, 3), (2, 1), (3, 2), (1, 1), (2, 2), (0, 4), (3, 2), (1, 0), (2, 1)]\n",
      "Initial solution:  [(0, 3), (2, 3), (1, 4), (2, 4), (1, 1), (2, 4), (1, 2), (2, 1), (0, 1), (3, 2), (0, 1), (3, 2)]\n",
      "Initial solution:  [(2, 3), (1, 4), (0, 2), (0, 0), (2, 3), (2, 1), (3, 4), (1, 1), (0, 1), (3, 0), (2, 0), (1, 1)]\n",
      "Initial solution:  [(0, 0), (1, 2), (2, 1), (3, 4), (2, 1), (2, 2), (3, 2), (2, 1), (1, 2), (0, 0), (1, 0), (0, 1)]\n",
      "Initial solution:  [(2, 4), (2, 4), (2, 1), (1, 3), (2, 4), (0, 4), (1, 1), (3, 1), (1, 4), (0, 0), (0, 2), (3, 2)]\n",
      "Initial solution:  [(3, 4), (1, 0), (3, 0), (2, 2), (2, 3), (1, 2), (0, 1), (2, 2), (0, 0), (1, 0), (0, 4), (2, 4)]\n",
      "Initial solution:  [(2, 4), (0, 0), (1, 2), (1, 0), (3, 4), (2, 4), (0, 0), (2, 3), (1, 1), (3, 1), (2, 2), (0, 4)]\n",
      "Initial solution:  [(1, 2), (0, 0), (0, 1), (1, 0), (3, 3), (2, 3), (2, 3), (3, 1), (1, 4), (0, 2), (2, 0), (2, 2)]\n",
      "Initial solution:  [(1, 1), (2, 2), (3, 3), (0, 1), (1, 4), (3, 2), (2, 1), (0, 1), (2, 2), (1, 4), (0, 1), (2, 1)]\n",
      "Initial solution:  [(2, 3), (0, 0), (0, 3), (3, 4), (1, 2), (2, 2), (3, 1), (2, 3), (1, 4), (2, 2), (0, 3), (1, 3)]\n",
      "Initial solution:  [(3, 4), (2, 3), (2, 3), (0, 4), (1, 3), (2, 0), (2, 4), (0, 2), (0, 0), (1, 3), (1, 4), (3, 1)]\n",
      "Initial solution:  [(1, 0), (2, 4), (3, 3), (0, 3), (3, 4), (0, 0), (0, 1), (2, 3), (1, 1), (2, 3), (1, 3), (2, 3)]\n",
      "Initial solution:  [(0, 2), (0, 2), (2, 3), (2, 2), (1, 1), (1, 0), (3, 0), (3, 0), (1, 2), (2, 2), (2, 1), (0, 2)]\n",
      "Initial solution:  [(0, 4), (1, 4), (2, 2), (1, 3), (3, 0), (0, 2), (1, 2), (2, 1), (2, 4), (0, 4), (3, 0), (2, 4)]\n",
      "Initial solution:  [(2, 0), (0, 4), (1, 1), (2, 1), (0, 2), (3, 1), (1, 3), (3, 2), (2, 0), (2, 1), (0, 1), (1, 2)]\n",
      "Initial solution:  [(2, 4), (2, 2), (3, 2), (1, 3), (2, 0), (1, 0), (2, 4), (0, 3), (1, 1), (0, 3), (3, 3), (0, 3)]\n",
      "Initial solution:  [(2, 1), (0, 4), (2, 2), (1, 0), (1, 2), (0, 3), (3, 2), (1, 2), (2, 2), (2, 1), (0, 0), (3, 0)]\n",
      "Initial solution:  [(1, 3), (1, 4), (0, 4), (2, 0), (0, 3), (3, 0), (2, 4), (2, 0), (3, 2), (1, 4), (0, 4), (2, 2)]\n",
      "Initial solution:  [(2, 4), (0, 4), (1, 1), (0, 0), (0, 1), (3, 4), (1, 1), (3, 2), (2, 0), (2, 4), (1, 3), (2, 1)]\n",
      "Initial solution:  [(2, 2), (3, 4), (0, 2), (1, 2), (1, 4), (2, 1), (3, 0), (2, 2), (1, 0), (2, 4), (0, 3), (0, 2)]\n",
      "Initial solution:  [(0, 3), (1, 1), (3, 0), (2, 1), (3, 4), (2, 4), (1, 2), (0, 1), (0, 3), (2, 2), (2, 4), (1, 0)]\n",
      "Initial solution:  [(1, 2), (1, 4), (0, 4), (3, 3), (2, 2), (2, 4), (1, 3), (2, 1), (0, 0), (0, 2), (3, 1), (2, 3)]\n",
      "Initial solution:  [(3, 1), (2, 2), (0, 3), (0, 2), (2, 1), (1, 0), (1, 3), (2, 2), (1, 1), (0, 1), (3, 0), (2, 1)]\n",
      "Initial solution:  [(1, 2), (2, 0), (0, 3), (1, 4), (3, 3), (2, 1), (0, 2), (2, 0), (1, 0), (2, 3), (3, 2), (0, 3)]\n",
      "Initial solution:  [(1, 1), (1, 3), (3, 3), (2, 4), (2, 3), (2, 1), (0, 4), (1, 1), (2, 4), (3, 1), (0, 2), (0, 3)]\n",
      "Initial solution:  [(1, 2), (2, 0), (3, 4), (1, 3), (1, 1), (2, 1), (2, 4), (0, 1), (0, 0), (0, 0), (2, 1), (3, 0)]\n",
      "Initial solution:  [(1, 1), (1, 4), (2, 1), (2, 0), (0, 0), (0, 0), (2, 1), (3, 1), (0, 0), (1, 3), (2, 4), (3, 2)]\n",
      "Initial solution:  [(0, 4), (1, 2), (2, 2), (3, 3), (0, 3), (1, 4), (2, 4), (3, 4), (1, 4), (2, 3), (2, 3), (0, 2)]\n",
      "Initial solution:  [(1, 2), (2, 2), (3, 0), (3, 1), (0, 2), (2, 0), (1, 4), (0, 4), (2, 3), (1, 2), (0, 1), (2, 4)]\n",
      "Initial solution:  [(2, 0), (0, 3), (1, 2), (2, 0), (1, 3), (2, 4), (2, 3), (3, 3), (1, 4), (3, 0), (0, 3), (0, 0)]\n",
      "Initial solution:  [(3, 2), (2, 0), (2, 2), (1, 3), (1, 4), (3, 3), (2, 4), (0, 3), (1, 3), (0, 0), (0, 0), (2, 0)]\n",
      "Initial solution:  [(2, 1), (3, 2), (0, 4), (2, 4), (2, 2), (2, 3), (1, 1), (1, 2), (0, 1), (3, 4), (1, 0), (0, 3)]\n",
      "Initial solution:  [(3, 2), (2, 3), (1, 3), (1, 1), (2, 3), (2, 4), (1, 1), (2, 0), (0, 2), (0, 3), (3, 0), (0, 4)]\n",
      "Initial solution:  [(2, 2), (2, 4), (2, 3), (2, 0), (0, 2), (1, 4), (3, 3), (3, 4), (0, 2), (1, 1), (1, 1), (0, 3)]\n",
      "Initial solution:  [(0, 3), (1, 0), (2, 1), (3, 4), (2, 4), (1, 1), (0, 2), (1, 1), (2, 1), (0, 1), (2, 0), (3, 1)]\n",
      "Initial solution:  [(2, 0), (1, 2), (1, 3), (3, 4), (3, 1), (0, 3), (0, 0), (1, 2), (0, 3), (2, 0), (2, 0), (2, 2)]\n",
      "Initial solution:  [(3, 1), (0, 3), (2, 4), (2, 3), (1, 0), (2, 4), (1, 3), (2, 2), (0, 1), (1, 1), (0, 0), (3, 1)]\n",
      "Initial solution:  [(1, 0), (3, 1), (3, 1), (1, 2), (2, 4), (0, 2), (2, 3), (1, 4), (2, 3), (0, 4), (0, 0), (2, 3)]\n",
      "Initial solution:  [(0, 1), (3, 0), (2, 1), (2, 2), (1, 2), (1, 3), (2, 4), (2, 1), (0, 3), (1, 3), (0, 2), (3, 2)]\n",
      "Initial solution:  [(0, 3), (2, 3), (3, 3), (2, 3), (0, 4), (2, 1), (1, 3), (1, 2), (0, 3), (2, 4), (1, 4), (3, 3)]\n",
      "Initial solution:  [(0, 3), (1, 4), (2, 2), (1, 4), (3, 2), (2, 2), (2, 0), (1, 1), (3, 0), (0, 0), (2, 1), (0, 0)]\n",
      "Initial solution:  [(0, 3), (2, 1), (0, 3), (0, 1), (2, 0), (1, 0), (1, 2), (3, 2), (2, 1), (3, 1), (2, 0), (1, 3)]\n",
      "Initial solution:  [(1, 4), (1, 2), (0, 4), (1, 2), (3, 0), (2, 3), (0, 2), (2, 3), (2, 1), (2, 0), (0, 0), (3, 2)]\n",
      "Initial solution:  [(0, 1), (0, 4), (2, 2), (1, 1), (2, 2), (0, 3), (3, 2), (2, 0), (1, 1), (3, 4), (2, 3), (1, 3)]\n",
      "Initial solution:  [(0, 0), (2, 0), (3, 4), (2, 0), (0, 4), (1, 2), (1, 0), (2, 2), (1, 1), (2, 4), (0, 3), (3, 4)]\n",
      "Initial solution:  [(1, 3), (3, 3), (1, 1), (2, 1), (2, 3), (1, 4), (0, 2), (3, 4), (0, 0), (2, 2), (0, 1), (2, 1)]\n",
      "Initial solution:  [(0, 4), (3, 4), (3, 2), (1, 2), (2, 1), (1, 2), (1, 3), (0, 0), (2, 3), (2, 2), (0, 4), (2, 0)]\n",
      "Initial solution:  [(2, 0), (0, 2), (1, 4), (0, 3), (2, 1), (2, 3), (1, 1), (1, 3), (3, 1), (2, 1), (0, 2), (3, 3)]\n",
      "Initial solution:  [(0, 0), (2, 4), (2, 0), (2, 3), (2, 4), (1, 1), (0, 4), (1, 1), (0, 1), (3, 4), (1, 2), (3, 2)]\n",
      "Initial solution:  [(2, 3), (1, 1), (2, 2), (1, 0), (3, 0), (2, 1), (0, 4), (3, 4), (1, 0), (2, 0), (0, 0), (0, 0)]\n",
      "Initial solution:  [(2, 4), (1, 3), (3, 3), (1, 2), (3, 2), (2, 4), (0, 3), (0, 4), (0, 4), (2, 0), (2, 3), (1, 4)]\n",
      "Initial solution:  [(1, 2), (0, 2), (1, 0), (0, 4), (2, 0), (0, 2), (1, 2), (3, 0), (2, 4), (2, 2), (2, 1), (3, 1)]\n",
      "Initial solution:  [(1, 3), (0, 2), (3, 3), (2, 4), (0, 3), (1, 2), (2, 1), (2, 2), (2, 0), (0, 1), (3, 0), (1, 1)]\n",
      "Initial solution:  [(0, 0), (0, 4), (2, 3), (3, 3), (1, 1), (3, 0), (0, 0), (1, 3), (2, 3), (2, 1), (1, 3), (2, 4)]\n",
      "Initial solution:  [(2, 0), (0, 2), (0, 1), (1, 3), (2, 3), (1, 1), (3, 2), (2, 3), (0, 0), (2, 3), (3, 0), (1, 4)]\n",
      "Initial solution:  [(1, 1), (2, 3), (1, 4), (0, 3), (2, 2), (2, 1), (3, 4), (0, 1), (1, 0), (2, 0), (3, 1), (0, 2)]\n",
      "Initial solution:  [(1, 0), (1, 4), (3, 0), (2, 1), (0, 2), (2, 0), (3, 1), (1, 3), (2, 0), (0, 2), (2, 1), (0, 4)]\n",
      "Initial solution:  [(0, 3), (2, 2), (2, 0), (3, 4), (1, 1), (0, 1), (2, 3), (0, 4), (1, 4), (2, 2), (1, 0), (3, 1)]\n",
      "Initial solution:  [(3, 0), (0, 0), (3, 0), (2, 4), (2, 1), (2, 3), (1, 0), (1, 3), (2, 1), (1, 4), (0, 3), (0, 2)]\n",
      "Initial solution:  [(0, 0), (1, 0), (1, 4), (2, 2), (1, 0), (3, 1), (2, 0), (3, 0), (0, 4), (2, 1), (2, 1), (0, 1)]\n",
      "Initial solution:  [(2, 1), (2, 4), (0, 3), (1, 3), (1, 2), (1, 3), (2, 0), (2, 2), (3, 4), (0, 1), (3, 4), (0, 1)]\n",
      "Initial solution:  [(3, 0), (0, 4), (0, 1), (1, 2), (2, 3), (2, 4), (2, 3), (1, 0), (1, 2), (3, 1), (2, 1), (0, 1)]\n",
      "Initial solution:  [(2, 2), (0, 1), (3, 4), (0, 2), (1, 4), (1, 2), (2, 0), (0, 2), (3, 2), (1, 3), (2, 2), (2, 2)]\n",
      "Initial solution:  [(1, 2), (0, 4), (2, 3), (1, 3), (0, 3), (1, 3), (3, 3), (3, 0), (2, 1), (2, 4), (0, 1), (2, 4)]\n",
      "Initial solution:  [(3, 0), (3, 3), (1, 3), (2, 3), (1, 0), (2, 0), (1, 0), (0, 2), (0, 3), (2, 0), (0, 3), (2, 3)]\n",
      "Initial solution:  [(2, 4), (2, 0), (3, 0), (2, 1), (0, 3), (1, 2), (1, 1), (0, 1), (2, 2), (3, 2), (1, 3), (0, 2)]\n",
      "Initial solution:  [(1, 4), (0, 4), (0, 3), (3, 0), (2, 3), (3, 2), (2, 2), (1, 3), (2, 3), (1, 4), (0, 2), (2, 0)]\n",
      "Initial solution:  [(2, 3), (3, 2), (3, 4), (1, 1), (1, 2), (2, 4), (0, 1), (0, 0), (1, 0), (2, 4), (2, 2), (0, 0)]\n",
      "Initial solution:  [(3, 0), (0, 0), (3, 4), (2, 0), (2, 1), (0, 0), (2, 0), (1, 2), (2, 2), (1, 3), (0, 0), (1, 2)]\n",
      "Initial solution:  [(2, 3), (1, 3), (1, 1), (3, 3), (0, 1), (0, 0), (2, 1), (0, 2), (3, 0), (2, 1), (1, 2), (2, 1)]\n",
      "Initial solution:  [(2, 4), (3, 4), (0, 1), (0, 1), (2, 2), (3, 1), (1, 3), (2, 4), (1, 2), (2, 3), (0, 3), (1, 3)]\n",
      "Initial solution:  [(2, 0), (2, 4), (1, 3), (2, 0), (2, 4), (3, 4), (3, 1), (0, 0), (1, 2), (0, 3), (1, 4), (0, 4)]\n",
      "Initial solution:  [(0, 2), (1, 4), (0, 3), (2, 0), (2, 4), (2, 4), (3, 0), (1, 2), (0, 1), (2, 3), (1, 2), (3, 0)]\n",
      "Initial solution:  [(2, 0), (0, 2), (3, 3), (3, 3), (0, 0), (2, 4), (1, 0), (0, 4), (2, 0), (1, 3), (2, 1), (1, 2)]\n",
      "Initial solution:  [(2, 4), (0, 2), (0, 3), (2, 0), (1, 1), (1, 4), (2, 4), (0, 3), (2, 2), (3, 4), (3, 3), (1, 2)]\n",
      "Initial solution:  [(0, 4), (2, 4), (1, 3), (3, 3), (1, 3), (0, 3), (0, 2), (2, 3), (1, 1), (2, 3), (2, 3), (3, 4)]\n",
      "Initial solution:  [(0, 1), (2, 1), (1, 0), (3, 3), (0, 0), (3, 2), (2, 1), (0, 1), (2, 2), (1, 4), (1, 0), (2, 2)]\n",
      "Initial solution:  [(1, 3), (2, 1), (0, 0), (0, 3), (2, 0), (1, 3), (0, 2), (3, 4), (1, 0), (2, 1), (3, 0), (2, 0)]\n",
      "Initial solution:  [(3, 4), (1, 4), (2, 2), (1, 3), (3, 4), (2, 3), (2, 4), (0, 1), (0, 2), (0, 0), (2, 1), (1, 1)]\n",
      "Initial solution:  [(0, 3), (1, 3), (2, 2), (0, 0), (2, 3), (0, 0), (3, 1), (1, 4), (1, 0), (3, 1), (2, 0), (2, 2)]\n",
      "Initial solution:  [(2, 3), (0, 0), (3, 1), (0, 2), (2, 0), (1, 1), (3, 4), (0, 1), (1, 1), (2, 1), (2, 3), (1, 0)]\n",
      "Initial solution:  [(0, 3), (1, 1), (2, 0), (2, 2), (1, 2), (0, 2), (2, 1), (2, 1), (1, 2), (3, 2), (0, 2), (3, 4)]\n",
      "Initial solution:  [(0, 2), (3, 2), (2, 0), (2, 4), (0, 2), (1, 1), (2, 2), (1, 0), (2, 2), (3, 2), (0, 4), (1, 3)]\n",
      "Initial solution:  [(2, 3), (1, 0), (1, 1), (2, 0), (0, 3), (0, 3), (3, 3), (3, 1), (2, 4), (2, 0), (0, 4), (1, 3)]\n",
      "Initial solution:  [(0, 1), (1, 2), (2, 3), (0, 0), (2, 0), (3, 2), (3, 4), (0, 3), (1, 1), (2, 4), (1, 4), (2, 0)]\n",
      "Initial solution:  [(0, 4), (3, 3), (0, 3), (1, 0), (1, 4), (2, 3), (2, 4), (2, 3), (3, 1), (1, 3), (0, 0), (2, 1)]\n",
      "Initial solution:  [(1, 0), (1, 3), (2, 4), (3, 1), (0, 1), (3, 3), (0, 4), (1, 2), (0, 2), (2, 3), (2, 3), (2, 1)]\n",
      "Initial solution:  [(3, 4), (2, 3), (2, 0), (1, 0), (0, 4), (1, 1), (3, 3), (0, 0), (2, 4), (2, 1), (0, 3), (1, 0)]\n",
      "Initial solution:  [(1, 1), (0, 2), (2, 4), (0, 0), (2, 0), (3, 0), (1, 4), (2, 1), (1, 1), (0, 3), (2, 0), (3, 0)]\n",
      "Initial solution:  [(0, 4), (2, 1), (2, 2), (2, 2), (1, 4), (3, 3), (0, 1), (1, 0), (0, 4), (2, 4), (1, 1), (3, 2)]\n",
      "Initial solution:  [(2, 4), (3, 4), (0, 2), (2, 3), (1, 1), (1, 2), (1, 0), (0, 0), (2, 4), (2, 0), (0, 4), (3, 0)]\n",
      "Initial solution:  [(2, 4), (1, 4), (1, 0), (3, 4), (0, 3), (3, 1), (2, 0), (2, 4), (2, 2), (0, 0), (1, 3), (0, 4)]\n",
      "Initial solution:  [(2, 1), (1, 3), (0, 2), (0, 1), (1, 0), (2, 2), (3, 0), (3, 2), (2, 4), (1, 2), (2, 3), (0, 0)]\n",
      "intial Solution: [(2, 1), (1, 3), (0, 2), (0, 1), (1, 0), (2, 2), (3, 0), (3, 2), (2, 4), (1, 2), (2, 3), (0, 0)]\n",
      "Best Solution: [(0, 4), (1, 2), (2, 1), (3, 3), (0, 3), (1, 4), (2, 4), (3, 0), (1, 0), (2, 0), (2, 3), (0, 2)] Best energy: 18\n",
      "Number of iterations: 3\n",
      "Solutions  [29, 26, 19, 19, 19, 19, 19, 19, 19, 19, 19, 19, 19, 19, 19, 19, 19, 19, 19, 19, 19, 19, 19, 19, 19, 19, 19, 19, 19, 19, 19, 19, 19, 19, 19, 18, 18, 18, 18, 18, 18, 18, 18, 18, 18, 18, 18, 18, 18, 18, 18, 18, 18, 18, 18, 18, 18, 18, 18, 18, 18, 18, 18, 18, 18, 18, 18, 18, 18, 18, 18, 18, 18, 18, 18, 18, 18, 18, 18, 18, 18, 18, 18, 18, 18, 18, 18, 18, 18, 18, 18, 18, 18, 18, 18, 18, 18, 18, 18, 18]\n"
     ]
    }
   ],
   "source": [
    "initial_solution = commun_functions.GenererSolution(data_instance)\n",
    "RS_instance = RS(initial_solution, 50, 0.1, 0.1, 100, 100)\n",
    "best_solution, best_energy, nb_iteration = RS_instance.simulated_annealing(data_instance)\n",
    "\n",
    "iterations = 100\n",
    "x = [i for i in range(iterations)]\n",
    "\n",
    "solutions = []\n",
    "for i in range(iterations): \n",
    "    initial_solution = commun_functions.GenererSolution(data_instance)\n",
    "    RS_instance = RS(initial_solution, 50, 0.1, 0.1, 10, 100)\n",
    "\n",
    "    best_sub_solution, best_sub_energy, nb_sub_iteration = RS_instance.simulated_annealing(data_instance)\n",
    "    \n",
    "    solutions.append(best_energy)\n",
    "\n",
    "    if best_sub_energy < best_energy : \n",
    "        best_solution = best_sub_solution\n",
    "        best_energy = best_sub_energy\n",
    "        nb_iteration = nb_sub_iteration\n",
    "\n",
    "\n",
    "print(\"intial Solution:\", initial_solution)\n",
    "print(\"Best Solution:\", best_solution, \"Best energy:\", best_energy)\n",
    "print(\"Number of iterations:\", nb_iteration)\n",
    "print(\"Solutions \", solutions)"
   ]
  }
 ],
 "metadata": {
  "kernelspec": {
   "display_name": "Python 3.8.10 64-bit",
   "language": "python",
   "name": "python3"
  },
  "language_info": {
   "codemirror_mode": {
    "name": "ipython",
    "version": 3
   },
   "file_extension": ".py",
   "mimetype": "text/x-python",
   "name": "python",
   "nbconvert_exporter": "python",
   "pygments_lexer": "ipython3",
   "version": "3.8.10"
  },
  "orig_nbformat": 4,
  "vscode": {
   "interpreter": {
    "hash": "ddb78ebb4e34c4c7d23aff4056d76f8bef9ddb851ee78b4d783e515a27bf746d"
   }
  }
 },
 "nbformat": 4,
 "nbformat_minor": 2
}
